{
 "cells": [
  {
   "cell_type": "raw",
   "id": "2360bd43",
   "metadata": {},
   "source": [
    "Table of Contents\n",
    "\n",
    "1. Import Liablaries\n",
    "        Read Our Data\n",
    "        Discover Data\n",
    "        EDA \n",
    "2. Duplication\n",
    "3. Nulls\n",
    "        Nulls Process Description\n",
    "        Nulls Numeric Check\n",
    "        Nulls Graphic check\n",
    "        Nulls Handling\n",
    "4. Outliers\n",
    "        Outliers Process Description\n",
    "        Outliers Rule & Graphs\n",
    "        Outliers Handing\n",
    "5. Correlation\n",
    "7. Regression Analysis"
   ]
  },
  {
   "cell_type": "markdown",
   "id": "f64ce74a",
   "metadata": {},
   "source": [
    "# IMPORT LIBRARIES"
   ]
  },
  {
   "cell_type": "code",
   "execution_count": 1,
   "id": "d2d8996b",
   "metadata": {},
   "outputs": [],
   "source": [
    "# Ignore  the warnings\n",
    "import warnings\n",
    "warnings.filterwarnings('always')\n",
    "warnings.filterwarnings('ignore')"
   ]
  },
  {
   "cell_type": "code",
   "execution_count": 2,
   "id": "7f3cb7b1",
   "metadata": {},
   "outputs": [],
   "source": [
    "# data visualisation and manipulation\n",
    "import numpy as np\n",
    "import pandas as pd\n",
    "import matplotlib.pyplot as plt\n",
    "import seaborn as sns\n",
    "import missingno as msno\n",
    " "
   ]
  },
  {
   "cell_type": "code",
   "execution_count": 3,
   "id": "32714677",
   "metadata": {},
   "outputs": [],
   "source": [
    "#regression\n",
    "from sklearn.linear_model import LinearRegression,Ridge,Lasso,RidgeCV,ElasticNet\n",
    "#model selection\n",
    "from sklearn.model_selection import train_test_split,cross_validate"
   ]
  },
  {
   "cell_type": "code",
   "execution_count": 4,
   "id": "840b65e9",
   "metadata": {},
   "outputs": [],
   "source": [
    "#evaluation metrics\n",
    "from sklearn.metrics import mean_squared_log_error,mean_squared_error, r2_score,mean_absolute_error # for regression\n",
    "from sklearn import linear_model"
   ]
  },
  {
   "cell_type": "code",
   "execution_count": 5,
   "id": "e30312ea",
   "metadata": {},
   "outputs": [],
   "source": [
    "from scipy import stats\n",
    "from scipy.stats import norm, skew   # specifically for staistic"
   ]
  },
  {
   "cell_type": "markdown",
   "id": "a79e1c60",
   "metadata": {},
   "source": [
    "# DATA DISCOVERY & EDA"
   ]
  },
  {
   "cell_type": "code",
   "execution_count": 6,
   "id": "fa9e5839",
   "metadata": {},
   "outputs": [],
   "source": [
    "train=pd.read_csv('C:/Users/User/Downloads/train (1).csv')\n",
    "test=pd.read_csv('C:/Users/User/Downloads/test (1).csv')"
   ]
  },
  {
   "cell_type": "code",
   "execution_count": 7,
   "id": "36588e67",
   "metadata": {},
   "outputs": [
    {
     "data": {
      "text/html": [
       "<div>\n",
       "<style scoped>\n",
       "    .dataframe tbody tr th:only-of-type {\n",
       "        vertical-align: middle;\n",
       "    }\n",
       "\n",
       "    .dataframe tbody tr th {\n",
       "        vertical-align: top;\n",
       "    }\n",
       "\n",
       "    .dataframe thead th {\n",
       "        text-align: right;\n",
       "    }\n",
       "</style>\n",
       "<table border=\"1\" class=\"dataframe\">\n",
       "  <thead>\n",
       "    <tr style=\"text-align: right;\">\n",
       "      <th></th>\n",
       "      <th>Id</th>\n",
       "      <th>MSSubClass</th>\n",
       "      <th>MSZoning</th>\n",
       "      <th>LotFrontage</th>\n",
       "      <th>LotArea</th>\n",
       "      <th>Street</th>\n",
       "      <th>Alley</th>\n",
       "      <th>LotShape</th>\n",
       "      <th>LandContour</th>\n",
       "      <th>Utilities</th>\n",
       "      <th>...</th>\n",
       "      <th>PoolArea</th>\n",
       "      <th>PoolQC</th>\n",
       "      <th>Fence</th>\n",
       "      <th>MiscFeature</th>\n",
       "      <th>MiscVal</th>\n",
       "      <th>MoSold</th>\n",
       "      <th>YrSold</th>\n",
       "      <th>SaleType</th>\n",
       "      <th>SaleCondition</th>\n",
       "      <th>SalePrice</th>\n",
       "    </tr>\n",
       "  </thead>\n",
       "  <tbody>\n",
       "    <tr>\n",
       "      <th>0</th>\n",
       "      <td>1</td>\n",
       "      <td>60</td>\n",
       "      <td>RL</td>\n",
       "      <td>65.0</td>\n",
       "      <td>8450</td>\n",
       "      <td>Pave</td>\n",
       "      <td>NaN</td>\n",
       "      <td>Reg</td>\n",
       "      <td>Lvl</td>\n",
       "      <td>AllPub</td>\n",
       "      <td>...</td>\n",
       "      <td>0</td>\n",
       "      <td>NaN</td>\n",
       "      <td>NaN</td>\n",
       "      <td>NaN</td>\n",
       "      <td>0</td>\n",
       "      <td>2</td>\n",
       "      <td>2008</td>\n",
       "      <td>WD</td>\n",
       "      <td>Normal</td>\n",
       "      <td>208500</td>\n",
       "    </tr>\n",
       "    <tr>\n",
       "      <th>1</th>\n",
       "      <td>2</td>\n",
       "      <td>20</td>\n",
       "      <td>RL</td>\n",
       "      <td>80.0</td>\n",
       "      <td>9600</td>\n",
       "      <td>Pave</td>\n",
       "      <td>NaN</td>\n",
       "      <td>Reg</td>\n",
       "      <td>Lvl</td>\n",
       "      <td>AllPub</td>\n",
       "      <td>...</td>\n",
       "      <td>0</td>\n",
       "      <td>NaN</td>\n",
       "      <td>NaN</td>\n",
       "      <td>NaN</td>\n",
       "      <td>0</td>\n",
       "      <td>5</td>\n",
       "      <td>2007</td>\n",
       "      <td>WD</td>\n",
       "      <td>Normal</td>\n",
       "      <td>181500</td>\n",
       "    </tr>\n",
       "    <tr>\n",
       "      <th>2</th>\n",
       "      <td>3</td>\n",
       "      <td>60</td>\n",
       "      <td>RL</td>\n",
       "      <td>68.0</td>\n",
       "      <td>11250</td>\n",
       "      <td>Pave</td>\n",
       "      <td>NaN</td>\n",
       "      <td>IR1</td>\n",
       "      <td>Lvl</td>\n",
       "      <td>AllPub</td>\n",
       "      <td>...</td>\n",
       "      <td>0</td>\n",
       "      <td>NaN</td>\n",
       "      <td>NaN</td>\n",
       "      <td>NaN</td>\n",
       "      <td>0</td>\n",
       "      <td>9</td>\n",
       "      <td>2008</td>\n",
       "      <td>WD</td>\n",
       "      <td>Normal</td>\n",
       "      <td>223500</td>\n",
       "    </tr>\n",
       "    <tr>\n",
       "      <th>3</th>\n",
       "      <td>4</td>\n",
       "      <td>70</td>\n",
       "      <td>RL</td>\n",
       "      <td>60.0</td>\n",
       "      <td>9550</td>\n",
       "      <td>Pave</td>\n",
       "      <td>NaN</td>\n",
       "      <td>IR1</td>\n",
       "      <td>Lvl</td>\n",
       "      <td>AllPub</td>\n",
       "      <td>...</td>\n",
       "      <td>0</td>\n",
       "      <td>NaN</td>\n",
       "      <td>NaN</td>\n",
       "      <td>NaN</td>\n",
       "      <td>0</td>\n",
       "      <td>2</td>\n",
       "      <td>2006</td>\n",
       "      <td>WD</td>\n",
       "      <td>Abnorml</td>\n",
       "      <td>140000</td>\n",
       "    </tr>\n",
       "    <tr>\n",
       "      <th>4</th>\n",
       "      <td>5</td>\n",
       "      <td>60</td>\n",
       "      <td>RL</td>\n",
       "      <td>84.0</td>\n",
       "      <td>14260</td>\n",
       "      <td>Pave</td>\n",
       "      <td>NaN</td>\n",
       "      <td>IR1</td>\n",
       "      <td>Lvl</td>\n",
       "      <td>AllPub</td>\n",
       "      <td>...</td>\n",
       "      <td>0</td>\n",
       "      <td>NaN</td>\n",
       "      <td>NaN</td>\n",
       "      <td>NaN</td>\n",
       "      <td>0</td>\n",
       "      <td>12</td>\n",
       "      <td>2008</td>\n",
       "      <td>WD</td>\n",
       "      <td>Normal</td>\n",
       "      <td>250000</td>\n",
       "    </tr>\n",
       "  </tbody>\n",
       "</table>\n",
       "<p>5 rows × 81 columns</p>\n",
       "</div>"
      ],
      "text/plain": [
       "   Id  MSSubClass MSZoning  LotFrontage  LotArea Street Alley LotShape  \\\n",
       "0   1          60       RL         65.0     8450   Pave   NaN      Reg   \n",
       "1   2          20       RL         80.0     9600   Pave   NaN      Reg   \n",
       "2   3          60       RL         68.0    11250   Pave   NaN      IR1   \n",
       "3   4          70       RL         60.0     9550   Pave   NaN      IR1   \n",
       "4   5          60       RL         84.0    14260   Pave   NaN      IR1   \n",
       "\n",
       "  LandContour Utilities  ... PoolArea PoolQC Fence MiscFeature MiscVal MoSold  \\\n",
       "0         Lvl    AllPub  ...        0    NaN   NaN         NaN       0      2   \n",
       "1         Lvl    AllPub  ...        0    NaN   NaN         NaN       0      5   \n",
       "2         Lvl    AllPub  ...        0    NaN   NaN         NaN       0      9   \n",
       "3         Lvl    AllPub  ...        0    NaN   NaN         NaN       0      2   \n",
       "4         Lvl    AllPub  ...        0    NaN   NaN         NaN       0     12   \n",
       "\n",
       "  YrSold  SaleType  SaleCondition  SalePrice  \n",
       "0   2008        WD         Normal     208500  \n",
       "1   2007        WD         Normal     181500  \n",
       "2   2008        WD         Normal     223500  \n",
       "3   2006        WD        Abnorml     140000  \n",
       "4   2008        WD         Normal     250000  \n",
       "\n",
       "[5 rows x 81 columns]"
      ]
     },
     "execution_count": 7,
     "metadata": {},
     "output_type": "execute_result"
    }
   ],
   "source": [
    "pd.reset_option('display.max_rows')\n",
    "pd.reset_option('display.max_columns')\n",
    "train.head() "
   ]
  },
  {
   "cell_type": "code",
   "execution_count": 10,
   "id": "212f9646",
   "metadata": {},
   "outputs": [
    {
     "name": "stdout",
     "output_type": "stream",
     "text": [
      "<class 'pandas.core.frame.DataFrame'>\n",
      "RangeIndex: 1460 entries, 0 to 1459\n",
      "Data columns (total 81 columns):\n",
      " #   Column         Non-Null Count  Dtype  \n",
      "---  ------         --------------  -----  \n",
      " 0   Id             1460 non-null   int64  \n",
      " 1   MSSubClass     1460 non-null   int64  \n",
      " 2   MSZoning       1460 non-null   object \n",
      " 3   LotFrontage    1201 non-null   float64\n",
      " 4   LotArea        1460 non-null   int64  \n",
      " 5   Street         1460 non-null   object \n",
      " 6   Alley          91 non-null     object \n",
      " 7   LotShape       1460 non-null   object \n",
      " 8   LandContour    1460 non-null   object \n",
      " 9   Utilities      1460 non-null   object \n",
      " 10  LotConfig      1460 non-null   object \n",
      " 11  LandSlope      1460 non-null   object \n",
      " 12  Neighborhood   1460 non-null   object \n",
      " 13  Condition1     1460 non-null   object \n",
      " 14  Condition2     1460 non-null   object \n",
      " 15  BldgType       1460 non-null   object \n",
      " 16  HouseStyle     1460 non-null   object \n",
      " 17  OverallQual    1460 non-null   int64  \n",
      " 18  OverallCond    1460 non-null   int64  \n",
      " 19  YearBuilt      1460 non-null   int64  \n",
      " 20  YearRemodAdd   1460 non-null   int64  \n",
      " 21  RoofStyle      1460 non-null   object \n",
      " 22  RoofMatl       1460 non-null   object \n",
      " 23  Exterior1st    1460 non-null   object \n",
      " 24  Exterior2nd    1460 non-null   object \n",
      " 25  MasVnrType     1452 non-null   object \n",
      " 26  MasVnrArea     1452 non-null   float64\n",
      " 27  ExterQual      1460 non-null   object \n",
      " 28  ExterCond      1460 non-null   object \n",
      " 29  Foundation     1460 non-null   object \n",
      " 30  BsmtQual       1423 non-null   object \n",
      " 31  BsmtCond       1423 non-null   object \n",
      " 32  BsmtExposure   1422 non-null   object \n",
      " 33  BsmtFinType1   1423 non-null   object \n",
      " 34  BsmtFinSF1     1460 non-null   int64  \n",
      " 35  BsmtFinType2   1422 non-null   object \n",
      " 36  BsmtFinSF2     1460 non-null   int64  \n",
      " 37  BsmtUnfSF      1460 non-null   int64  \n",
      " 38  TotalBsmtSF    1460 non-null   int64  \n",
      " 39  Heating        1460 non-null   object \n",
      " 40  HeatingQC      1460 non-null   object \n",
      " 41  CentralAir     1460 non-null   object \n",
      " 42  Electrical     1459 non-null   object \n",
      " 43  1stFlrSF       1460 non-null   int64  \n",
      " 44  2ndFlrSF       1460 non-null   int64  \n",
      " 45  LowQualFinSF   1460 non-null   int64  \n",
      " 46  GrLivArea      1460 non-null   int64  \n",
      " 47  BsmtFullBath   1460 non-null   int64  \n",
      " 48  BsmtHalfBath   1460 non-null   int64  \n",
      " 49  FullBath       1460 non-null   int64  \n",
      " 50  HalfBath       1460 non-null   int64  \n",
      " 51  BedroomAbvGr   1460 non-null   int64  \n",
      " 52  KitchenAbvGr   1460 non-null   int64  \n",
      " 53  KitchenQual    1460 non-null   object \n",
      " 54  TotRmsAbvGrd   1460 non-null   int64  \n",
      " 55  Functional     1460 non-null   object \n",
      " 56  Fireplaces     1460 non-null   int64  \n",
      " 57  FireplaceQu    770 non-null    object \n",
      " 58  GarageType     1379 non-null   object \n",
      " 59  GarageYrBlt    1379 non-null   float64\n",
      " 60  GarageFinish   1379 non-null   object \n",
      " 61  GarageCars     1460 non-null   int64  \n",
      " 62  GarageArea     1460 non-null   int64  \n",
      " 63  GarageQual     1379 non-null   object \n",
      " 64  GarageCond     1379 non-null   object \n",
      " 65  PavedDrive     1460 non-null   object \n",
      " 66  WoodDeckSF     1460 non-null   int64  \n",
      " 67  OpenPorchSF    1460 non-null   int64  \n",
      " 68  EnclosedPorch  1460 non-null   int64  \n",
      " 69  3SsnPorch      1460 non-null   int64  \n",
      " 70  ScreenPorch    1460 non-null   int64  \n",
      " 71  PoolArea       1460 non-null   int64  \n",
      " 72  PoolQC         7 non-null      object \n",
      " 73  Fence          281 non-null    object \n",
      " 74  MiscFeature    54 non-null     object \n",
      " 75  MiscVal        1460 non-null   int64  \n",
      " 76  MoSold         1460 non-null   int64  \n",
      " 77  YrSold         1460 non-null   int64  \n",
      " 78  SaleType       1460 non-null   object \n",
      " 79  SaleCondition  1460 non-null   object \n",
      " 80  SalePrice      1460 non-null   int64  \n",
      "dtypes: float64(3), int64(35), object(43)\n",
      "memory usage: 924.0+ KB\n"
     ]
    }
   ],
   "source": [
    "train.info()\n",
    "#We Have A Lot Of Nulls"
   ]
  },
  {
   "cell_type": "code",
   "execution_count": 8,
   "id": "28169801",
   "metadata": {},
   "outputs": [
    {
     "data": {
      "text/html": [
       "<div>\n",
       "<style scoped>\n",
       "    .dataframe tbody tr th:only-of-type {\n",
       "        vertical-align: middle;\n",
       "    }\n",
       "\n",
       "    .dataframe tbody tr th {\n",
       "        vertical-align: top;\n",
       "    }\n",
       "\n",
       "    .dataframe thead th {\n",
       "        text-align: right;\n",
       "    }\n",
       "</style>\n",
       "<table border=\"1\" class=\"dataframe\">\n",
       "  <thead>\n",
       "    <tr style=\"text-align: right;\">\n",
       "      <th></th>\n",
       "      <th>Id</th>\n",
       "      <th>MSSubClass</th>\n",
       "      <th>LotFrontage</th>\n",
       "      <th>LotArea</th>\n",
       "      <th>OverallQual</th>\n",
       "      <th>OverallCond</th>\n",
       "      <th>YearBuilt</th>\n",
       "      <th>YearRemodAdd</th>\n",
       "      <th>MasVnrArea</th>\n",
       "      <th>BsmtFinSF1</th>\n",
       "      <th>...</th>\n",
       "      <th>WoodDeckSF</th>\n",
       "      <th>OpenPorchSF</th>\n",
       "      <th>EnclosedPorch</th>\n",
       "      <th>3SsnPorch</th>\n",
       "      <th>ScreenPorch</th>\n",
       "      <th>PoolArea</th>\n",
       "      <th>MiscVal</th>\n",
       "      <th>MoSold</th>\n",
       "      <th>YrSold</th>\n",
       "      <th>SalePrice</th>\n",
       "    </tr>\n",
       "  </thead>\n",
       "  <tbody>\n",
       "    <tr>\n",
       "      <th>count</th>\n",
       "      <td>1460.000000</td>\n",
       "      <td>1460.000000</td>\n",
       "      <td>1201.000000</td>\n",
       "      <td>1460.000000</td>\n",
       "      <td>1460.000000</td>\n",
       "      <td>1460.000000</td>\n",
       "      <td>1460.000000</td>\n",
       "      <td>1460.000000</td>\n",
       "      <td>1452.000000</td>\n",
       "      <td>1460.000000</td>\n",
       "      <td>...</td>\n",
       "      <td>1460.000000</td>\n",
       "      <td>1460.000000</td>\n",
       "      <td>1460.000000</td>\n",
       "      <td>1460.000000</td>\n",
       "      <td>1460.000000</td>\n",
       "      <td>1460.000000</td>\n",
       "      <td>1460.000000</td>\n",
       "      <td>1460.000000</td>\n",
       "      <td>1460.000000</td>\n",
       "      <td>1460.000000</td>\n",
       "    </tr>\n",
       "    <tr>\n",
       "      <th>mean</th>\n",
       "      <td>730.500000</td>\n",
       "      <td>56.897260</td>\n",
       "      <td>70.049958</td>\n",
       "      <td>10516.828082</td>\n",
       "      <td>6.099315</td>\n",
       "      <td>5.575342</td>\n",
       "      <td>1971.267808</td>\n",
       "      <td>1984.865753</td>\n",
       "      <td>103.685262</td>\n",
       "      <td>443.639726</td>\n",
       "      <td>...</td>\n",
       "      <td>94.244521</td>\n",
       "      <td>46.660274</td>\n",
       "      <td>21.954110</td>\n",
       "      <td>3.409589</td>\n",
       "      <td>15.060959</td>\n",
       "      <td>2.758904</td>\n",
       "      <td>43.489041</td>\n",
       "      <td>6.321918</td>\n",
       "      <td>2007.815753</td>\n",
       "      <td>180921.195890</td>\n",
       "    </tr>\n",
       "    <tr>\n",
       "      <th>std</th>\n",
       "      <td>421.610009</td>\n",
       "      <td>42.300571</td>\n",
       "      <td>24.284752</td>\n",
       "      <td>9981.264932</td>\n",
       "      <td>1.382997</td>\n",
       "      <td>1.112799</td>\n",
       "      <td>30.202904</td>\n",
       "      <td>20.645407</td>\n",
       "      <td>181.066207</td>\n",
       "      <td>456.098091</td>\n",
       "      <td>...</td>\n",
       "      <td>125.338794</td>\n",
       "      <td>66.256028</td>\n",
       "      <td>61.119149</td>\n",
       "      <td>29.317331</td>\n",
       "      <td>55.757415</td>\n",
       "      <td>40.177307</td>\n",
       "      <td>496.123024</td>\n",
       "      <td>2.703626</td>\n",
       "      <td>1.328095</td>\n",
       "      <td>79442.502883</td>\n",
       "    </tr>\n",
       "    <tr>\n",
       "      <th>min</th>\n",
       "      <td>1.000000</td>\n",
       "      <td>20.000000</td>\n",
       "      <td>21.000000</td>\n",
       "      <td>1300.000000</td>\n",
       "      <td>1.000000</td>\n",
       "      <td>1.000000</td>\n",
       "      <td>1872.000000</td>\n",
       "      <td>1950.000000</td>\n",
       "      <td>0.000000</td>\n",
       "      <td>0.000000</td>\n",
       "      <td>...</td>\n",
       "      <td>0.000000</td>\n",
       "      <td>0.000000</td>\n",
       "      <td>0.000000</td>\n",
       "      <td>0.000000</td>\n",
       "      <td>0.000000</td>\n",
       "      <td>0.000000</td>\n",
       "      <td>0.000000</td>\n",
       "      <td>1.000000</td>\n",
       "      <td>2006.000000</td>\n",
       "      <td>34900.000000</td>\n",
       "    </tr>\n",
       "    <tr>\n",
       "      <th>25%</th>\n",
       "      <td>365.750000</td>\n",
       "      <td>20.000000</td>\n",
       "      <td>59.000000</td>\n",
       "      <td>7553.500000</td>\n",
       "      <td>5.000000</td>\n",
       "      <td>5.000000</td>\n",
       "      <td>1954.000000</td>\n",
       "      <td>1967.000000</td>\n",
       "      <td>0.000000</td>\n",
       "      <td>0.000000</td>\n",
       "      <td>...</td>\n",
       "      <td>0.000000</td>\n",
       "      <td>0.000000</td>\n",
       "      <td>0.000000</td>\n",
       "      <td>0.000000</td>\n",
       "      <td>0.000000</td>\n",
       "      <td>0.000000</td>\n",
       "      <td>0.000000</td>\n",
       "      <td>5.000000</td>\n",
       "      <td>2007.000000</td>\n",
       "      <td>129975.000000</td>\n",
       "    </tr>\n",
       "    <tr>\n",
       "      <th>50%</th>\n",
       "      <td>730.500000</td>\n",
       "      <td>50.000000</td>\n",
       "      <td>69.000000</td>\n",
       "      <td>9478.500000</td>\n",
       "      <td>6.000000</td>\n",
       "      <td>5.000000</td>\n",
       "      <td>1973.000000</td>\n",
       "      <td>1994.000000</td>\n",
       "      <td>0.000000</td>\n",
       "      <td>383.500000</td>\n",
       "      <td>...</td>\n",
       "      <td>0.000000</td>\n",
       "      <td>25.000000</td>\n",
       "      <td>0.000000</td>\n",
       "      <td>0.000000</td>\n",
       "      <td>0.000000</td>\n",
       "      <td>0.000000</td>\n",
       "      <td>0.000000</td>\n",
       "      <td>6.000000</td>\n",
       "      <td>2008.000000</td>\n",
       "      <td>163000.000000</td>\n",
       "    </tr>\n",
       "    <tr>\n",
       "      <th>75%</th>\n",
       "      <td>1095.250000</td>\n",
       "      <td>70.000000</td>\n",
       "      <td>80.000000</td>\n",
       "      <td>11601.500000</td>\n",
       "      <td>7.000000</td>\n",
       "      <td>6.000000</td>\n",
       "      <td>2000.000000</td>\n",
       "      <td>2004.000000</td>\n",
       "      <td>166.000000</td>\n",
       "      <td>712.250000</td>\n",
       "      <td>...</td>\n",
       "      <td>168.000000</td>\n",
       "      <td>68.000000</td>\n",
       "      <td>0.000000</td>\n",
       "      <td>0.000000</td>\n",
       "      <td>0.000000</td>\n",
       "      <td>0.000000</td>\n",
       "      <td>0.000000</td>\n",
       "      <td>8.000000</td>\n",
       "      <td>2009.000000</td>\n",
       "      <td>214000.000000</td>\n",
       "    </tr>\n",
       "    <tr>\n",
       "      <th>max</th>\n",
       "      <td>1460.000000</td>\n",
       "      <td>190.000000</td>\n",
       "      <td>313.000000</td>\n",
       "      <td>215245.000000</td>\n",
       "      <td>10.000000</td>\n",
       "      <td>9.000000</td>\n",
       "      <td>2010.000000</td>\n",
       "      <td>2010.000000</td>\n",
       "      <td>1600.000000</td>\n",
       "      <td>5644.000000</td>\n",
       "      <td>...</td>\n",
       "      <td>857.000000</td>\n",
       "      <td>547.000000</td>\n",
       "      <td>552.000000</td>\n",
       "      <td>508.000000</td>\n",
       "      <td>480.000000</td>\n",
       "      <td>738.000000</td>\n",
       "      <td>15500.000000</td>\n",
       "      <td>12.000000</td>\n",
       "      <td>2010.000000</td>\n",
       "      <td>755000.000000</td>\n",
       "    </tr>\n",
       "  </tbody>\n",
       "</table>\n",
       "<p>8 rows × 38 columns</p>\n",
       "</div>"
      ],
      "text/plain": [
       "                Id   MSSubClass  LotFrontage        LotArea  OverallQual  \\\n",
       "count  1460.000000  1460.000000  1201.000000    1460.000000  1460.000000   \n",
       "mean    730.500000    56.897260    70.049958   10516.828082     6.099315   \n",
       "std     421.610009    42.300571    24.284752    9981.264932     1.382997   \n",
       "min       1.000000    20.000000    21.000000    1300.000000     1.000000   \n",
       "25%     365.750000    20.000000    59.000000    7553.500000     5.000000   \n",
       "50%     730.500000    50.000000    69.000000    9478.500000     6.000000   \n",
       "75%    1095.250000    70.000000    80.000000   11601.500000     7.000000   \n",
       "max    1460.000000   190.000000   313.000000  215245.000000    10.000000   \n",
       "\n",
       "       OverallCond    YearBuilt  YearRemodAdd   MasVnrArea   BsmtFinSF1  ...  \\\n",
       "count  1460.000000  1460.000000   1460.000000  1452.000000  1460.000000  ...   \n",
       "mean      5.575342  1971.267808   1984.865753   103.685262   443.639726  ...   \n",
       "std       1.112799    30.202904     20.645407   181.066207   456.098091  ...   \n",
       "min       1.000000  1872.000000   1950.000000     0.000000     0.000000  ...   \n",
       "25%       5.000000  1954.000000   1967.000000     0.000000     0.000000  ...   \n",
       "50%       5.000000  1973.000000   1994.000000     0.000000   383.500000  ...   \n",
       "75%       6.000000  2000.000000   2004.000000   166.000000   712.250000  ...   \n",
       "max       9.000000  2010.000000   2010.000000  1600.000000  5644.000000  ...   \n",
       "\n",
       "        WoodDeckSF  OpenPorchSF  EnclosedPorch    3SsnPorch  ScreenPorch  \\\n",
       "count  1460.000000  1460.000000    1460.000000  1460.000000  1460.000000   \n",
       "mean     94.244521    46.660274      21.954110     3.409589    15.060959   \n",
       "std     125.338794    66.256028      61.119149    29.317331    55.757415   \n",
       "min       0.000000     0.000000       0.000000     0.000000     0.000000   \n",
       "25%       0.000000     0.000000       0.000000     0.000000     0.000000   \n",
       "50%       0.000000    25.000000       0.000000     0.000000     0.000000   \n",
       "75%     168.000000    68.000000       0.000000     0.000000     0.000000   \n",
       "max     857.000000   547.000000     552.000000   508.000000   480.000000   \n",
       "\n",
       "          PoolArea       MiscVal       MoSold       YrSold      SalePrice  \n",
       "count  1460.000000   1460.000000  1460.000000  1460.000000    1460.000000  \n",
       "mean      2.758904     43.489041     6.321918  2007.815753  180921.195890  \n",
       "std      40.177307    496.123024     2.703626     1.328095   79442.502883  \n",
       "min       0.000000      0.000000     1.000000  2006.000000   34900.000000  \n",
       "25%       0.000000      0.000000     5.000000  2007.000000  129975.000000  \n",
       "50%       0.000000      0.000000     6.000000  2008.000000  163000.000000  \n",
       "75%       0.000000      0.000000     8.000000  2009.000000  214000.000000  \n",
       "max     738.000000  15500.000000    12.000000  2010.000000  755000.000000  \n",
       "\n",
       "[8 rows x 38 columns]"
      ]
     },
     "execution_count": 8,
     "metadata": {},
     "output_type": "execute_result"
    }
   ],
   "source": [
    "train.describe() "
   ]
  },
  {
   "cell_type": "raw",
   "id": "f1c1b712",
   "metadata": {},
   "source": [
    "Let's Clean Our Data Into 3 Steps\n",
    "1. Duplication\n",
    "What We Search For : Duplication\n",
    "What We Found : No Duplication\n",
    "What We Did To Handle : Nothing\n",
    "2. Nulls\n",
    "What We Search For : Nulls\n",
    "What We Found : Many Nulls\n",
    "What We Did To Handle : Explain & Code In # 2.2\n",
    "3. Outliers\n",
    "What We Search For : Outliers\n",
    "What We Found : There Are Outliers\n",
    "What We Did To Handle : Code Below"
   ]
  },
  {
   "cell_type": "markdown",
   "id": "ccc61612",
   "metadata": {},
   "source": [
    "# DUPLICATION"
   ]
  },
  {
   "cell_type": "code",
   "execution_count": 9,
   "id": "89197c13",
   "metadata": {},
   "outputs": [
    {
     "data": {
      "text/plain": [
       "0"
      ]
     },
     "metadata": {},
     "output_type": "display_data"
    }
   ],
   "source": [
    "# 1.DUPLICATION\n",
    "\n",
    "display(train.duplicated().sum())\n",
    "\n",
    "# No duplicate items in the dataset"
   ]
  },
  {
   "cell_type": "markdown",
   "id": "57c13c00",
   "metadata": {},
   "source": [
    "# NULLS"
   ]
  },
  {
   "cell_type": "code",
   "execution_count": 10,
   "id": "1565bbf4",
   "metadata": {},
   "outputs": [
    {
     "data": {
      "text/plain": [
       "Id                 0\n",
       "MSSubClass         0\n",
       "MSZoning           0\n",
       "LotFrontage      259\n",
       "LotArea            0\n",
       "                ... \n",
       "MoSold             0\n",
       "YrSold             0\n",
       "SaleType           0\n",
       "SaleCondition      0\n",
       "SalePrice          0\n",
       "Length: 81, dtype: int64"
      ]
     },
     "metadata": {},
     "output_type": "display_data"
    }
   ],
   "source": [
    "# 2.NULL VALUES\n",
    "\n",
    "pd.set_option('display.max_rows',10)\n",
    "display(train.isnull().sum())\n",
    "\n",
    "# we Found That There are many nulls"
   ]
  },
  {
   "cell_type": "code",
   "execution_count": 11,
   "id": "10b98bd4",
   "metadata": {},
   "outputs": [
    {
     "data": {
      "image/png": "[encoded data removed]",
      "text/plain": [
       "<Figure size 432x288 with 1 Axes>"
      ]
     },
     "metadata": {
      "needs_background": "light"
     },
     "output_type": "display_data"
    }
   ],
   "source": [
    "# Nulls Search By Simple Graph\n",
    "#Check Null % In Each Column By If Function to Draw in case of exist and else in case of no nulls will use else to check after handle nulls\n",
    "\n",
    "def plot_nas(train: pd.DataFrame):\n",
    "    if train.isnull().sum().sum() != 0:\n",
    "        na_df = (train.isnull().sum() / len(train)) * 100      \n",
    "        na_df = na_df.drop(na_df[na_df == 0].index).sort_values(ascending=False)\n",
    "        missing_data = pd.DataFrame({'Missing Ratio %' :na_df})\n",
    "        missing_data.plot(kind = \"barh\")\n",
    "        plt.show()\n",
    "    else:\n",
    "        print('No NAs found')\n",
    "plot_nas(train)\n",
    "\n",
    "# So we Will Replace All Nulls with Mean or mode Except Last 4 Cols"
   ]
  },
  {
   "cell_type": "code",
   "execution_count": 12,
   "id": "d6099287",
   "metadata": {},
   "outputs": [
    {
     "data": {
      "text/html": [
       "<style type=\"text/css\">\n",
       "#T_4451d_row0_col1 {\n",
       "  background-color: #ffc0cb;\n",
       "  color: #000000;\n",
       "}\n",
       "#T_4451d_row1_col1 {\n",
       "  background-color: #ffc2cc;\n",
       "  color: #000000;\n",
       "}\n",
       "#T_4451d_row2_col1 {\n",
       "  background-color: #fec3cd;\n",
       "  color: #000000;\n",
       "}\n",
       "#T_4451d_row3_col1 {\n",
       "  background-color: #fdc9d2;\n",
       "  color: #000000;\n",
       "}\n",
       "#T_4451d_row4_col1 {\n",
       "  background-color: #f9d9df;\n",
       "  color: #000000;\n",
       "}\n",
       "#T_4451d_row5_col1 {\n",
       "  background-color: #f5e7ea;\n",
       "  color: #000000;\n",
       "}\n",
       "#T_4451d_row6_col1, #T_4451d_row7_col1, #T_4451d_row8_col1, #T_4451d_row9_col1, #T_4451d_row10_col1 {\n",
       "  background-color: #f3edee;\n",
       "  color: #000000;\n",
       "}\n",
       "#T_4451d_row11_col1, #T_4451d_row12_col1, #T_4451d_row13_col1, #T_4451d_row14_col1, #T_4451d_row15_col1 {\n",
       "  background-color: #f3efef;\n",
       "  color: #000000;\n",
       "}\n",
       "#T_4451d_row16_col1, #T_4451d_row17_col1, #T_4451d_row18_col1 {\n",
       "  background-color: #f3f0f0;\n",
       "  color: #000000;\n",
       "}\n",
       "</style>\n",
       "<table id=\"T_4451d\">\n",
       "  <thead>\n",
       "    <tr>\n",
       "      <th class=\"blank level0\" >&nbsp;</th>\n",
       "      <th id=\"T_4451d_level0_col0\" class=\"col_heading level0 col0\" >Column</th>\n",
       "      <th id=\"T_4451d_level0_col1\" class=\"col_heading level0 col1\" >Null %</th>\n",
       "      <th id=\"T_4451d_level0_col2\" class=\"col_heading level0 col2\" >Data type</th>\n",
       "    </tr>\n",
       "  </thead>\n",
       "  <tbody>\n",
       "    <tr>\n",
       "      <th id=\"T_4451d_level0_row0\" class=\"row_heading level0 row0\" >16</th>\n",
       "      <td id=\"T_4451d_row0_col0\" class=\"data row0 col0\" >PoolQC</td>\n",
       "      <td id=\"T_4451d_row0_col1\" class=\"data row0 col1\" >99.520000</td>\n",
       "      <td id=\"T_4451d_row0_col2\" class=\"data row0 col2\" >object</td>\n",
       "    </tr>\n",
       "    <tr>\n",
       "      <th id=\"T_4451d_level0_row1\" class=\"row_heading level0 row1\" >18</th>\n",
       "      <td id=\"T_4451d_row1_col0\" class=\"data row1 col0\" >MiscFeature</td>\n",
       "      <td id=\"T_4451d_row1_col1\" class=\"data row1 col1\" >96.300000</td>\n",
       "      <td id=\"T_4451d_row1_col2\" class=\"data row1 col2\" >object</td>\n",
       "    </tr>\n",
       "    <tr>\n",
       "      <th id=\"T_4451d_level0_row2\" class=\"row_heading level0 row2\" >1</th>\n",
       "      <td id=\"T_4451d_row2_col0\" class=\"data row2 col0\" >Alley</td>\n",
       "      <td id=\"T_4451d_row2_col1\" class=\"data row2 col1\" >93.770000</td>\n",
       "      <td id=\"T_4451d_row2_col2\" class=\"data row2 col2\" >object</td>\n",
       "    </tr>\n",
       "    <tr>\n",
       "      <th id=\"T_4451d_level0_row3\" class=\"row_heading level0 row3\" >17</th>\n",
       "      <td id=\"T_4451d_row3_col0\" class=\"data row3 col0\" >Fence</td>\n",
       "      <td id=\"T_4451d_row3_col1\" class=\"data row3 col1\" >80.750000</td>\n",
       "      <td id=\"T_4451d_row3_col2\" class=\"data row3 col2\" >object</td>\n",
       "    </tr>\n",
       "    <tr>\n",
       "      <th id=\"T_4451d_level0_row4\" class=\"row_heading level0 row4\" >10</th>\n",
       "      <td id=\"T_4451d_row4_col0\" class=\"data row4 col0\" >FireplaceQu</td>\n",
       "      <td id=\"T_4451d_row4_col1\" class=\"data row4 col1\" >47.260000</td>\n",
       "      <td id=\"T_4451d_row4_col2\" class=\"data row4 col2\" >object</td>\n",
       "    </tr>\n",
       "    <tr>\n",
       "      <th id=\"T_4451d_level0_row5\" class=\"row_heading level0 row5\" >0</th>\n",
       "      <td id=\"T_4451d_row5_col0\" class=\"data row5 col0\" >LotFrontage</td>\n",
       "      <td id=\"T_4451d_row5_col1\" class=\"data row5 col1\" >17.740000</td>\n",
       "      <td id=\"T_4451d_row5_col2\" class=\"data row5 col2\" >float64</td>\n",
       "    </tr>\n",
       "    <tr>\n",
       "      <th id=\"T_4451d_level0_row6\" class=\"row_heading level0 row6\" >11</th>\n",
       "      <td id=\"T_4451d_row6_col0\" class=\"data row6 col0\" >GarageType</td>\n",
       "      <td id=\"T_4451d_row6_col1\" class=\"data row6 col1\" >5.550000</td>\n",
       "      <td id=\"T_4451d_row6_col2\" class=\"data row6 col2\" >object</td>\n",
       "    </tr>\n",
       "    <tr>\n",
       "      <th id=\"T_4451d_level0_row7\" class=\"row_heading level0 row7\" >12</th>\n",
       "      <td id=\"T_4451d_row7_col0\" class=\"data row7 col0\" >GarageYrBlt</td>\n",
       "      <td id=\"T_4451d_row7_col1\" class=\"data row7 col1\" >5.550000</td>\n",
       "      <td id=\"T_4451d_row7_col2\" class=\"data row7 col2\" >float64</td>\n",
       "    </tr>\n",
       "    <tr>\n",
       "      <th id=\"T_4451d_level0_row8\" class=\"row_heading level0 row8\" >13</th>\n",
       "      <td id=\"T_4451d_row8_col0\" class=\"data row8 col0\" >GarageFinish</td>\n",
       "      <td id=\"T_4451d_row8_col1\" class=\"data row8 col1\" >5.550000</td>\n",
       "      <td id=\"T_4451d_row8_col2\" class=\"data row8 col2\" >object</td>\n",
       "    </tr>\n",
       "    <tr>\n",
       "      <th id=\"T_4451d_level0_row9\" class=\"row_heading level0 row9\" >14</th>\n",
       "      <td id=\"T_4451d_row9_col0\" class=\"data row9 col0\" >GarageQual</td>\n",
       "      <td id=\"T_4451d_row9_col1\" class=\"data row9 col1\" >5.550000</td>\n",
       "      <td id=\"T_4451d_row9_col2\" class=\"data row9 col2\" >object</td>\n",
       "    </tr>\n",
       "    <tr>\n",
       "      <th id=\"T_4451d_level0_row10\" class=\"row_heading level0 row10\" >15</th>\n",
       "      <td id=\"T_4451d_row10_col0\" class=\"data row10 col0\" >GarageCond</td>\n",
       "      <td id=\"T_4451d_row10_col1\" class=\"data row10 col1\" >5.550000</td>\n",
       "      <td id=\"T_4451d_row10_col2\" class=\"data row10 col2\" >object</td>\n",
       "    </tr>\n",
       "    <tr>\n",
       "      <th id=\"T_4451d_level0_row11\" class=\"row_heading level0 row11\" >6</th>\n",
       "      <td id=\"T_4451d_row11_col0\" class=\"data row11 col0\" >BsmtExposure</td>\n",
       "      <td id=\"T_4451d_row11_col1\" class=\"data row11 col1\" >2.600000</td>\n",
       "      <td id=\"T_4451d_row11_col2\" class=\"data row11 col2\" >object</td>\n",
       "    </tr>\n",
       "    <tr>\n",
       "      <th id=\"T_4451d_level0_row12\" class=\"row_heading level0 row12\" >8</th>\n",
       "      <td id=\"T_4451d_row12_col0\" class=\"data row12 col0\" >BsmtFinType2</td>\n",
       "      <td id=\"T_4451d_row12_col1\" class=\"data row12 col1\" >2.600000</td>\n",
       "      <td id=\"T_4451d_row12_col2\" class=\"data row12 col2\" >object</td>\n",
       "    </tr>\n",
       "    <tr>\n",
       "      <th id=\"T_4451d_level0_row13\" class=\"row_heading level0 row13\" >7</th>\n",
       "      <td id=\"T_4451d_row13_col0\" class=\"data row13 col0\" >BsmtFinType1</td>\n",
       "      <td id=\"T_4451d_row13_col1\" class=\"data row13 col1\" >2.530000</td>\n",
       "      <td id=\"T_4451d_row13_col2\" class=\"data row13 col2\" >object</td>\n",
       "    </tr>\n",
       "    <tr>\n",
       "      <th id=\"T_4451d_level0_row14\" class=\"row_heading level0 row14\" >5</th>\n",
       "      <td id=\"T_4451d_row14_col0\" class=\"data row14 col0\" >BsmtCond</td>\n",
       "      <td id=\"T_4451d_row14_col1\" class=\"data row14 col1\" >2.530000</td>\n",
       "      <td id=\"T_4451d_row14_col2\" class=\"data row14 col2\" >object</td>\n",
       "    </tr>\n",
       "    <tr>\n",
       "      <th id=\"T_4451d_level0_row15\" class=\"row_heading level0 row15\" >4</th>\n",
       "      <td id=\"T_4451d_row15_col0\" class=\"data row15 col0\" >BsmtQual</td>\n",
       "      <td id=\"T_4451d_row15_col1\" class=\"data row15 col1\" >2.530000</td>\n",
       "      <td id=\"T_4451d_row15_col2\" class=\"data row15 col2\" >object</td>\n",
       "    </tr>\n",
       "    <tr>\n",
       "      <th id=\"T_4451d_level0_row16\" class=\"row_heading level0 row16\" >3</th>\n",
       "      <td id=\"T_4451d_row16_col0\" class=\"data row16 col0\" >MasVnrArea</td>\n",
       "      <td id=\"T_4451d_row16_col1\" class=\"data row16 col1\" >0.550000</td>\n",
       "      <td id=\"T_4451d_row16_col2\" class=\"data row16 col2\" >float64</td>\n",
       "    </tr>\n",
       "    <tr>\n",
       "      <th id=\"T_4451d_level0_row17\" class=\"row_heading level0 row17\" >2</th>\n",
       "      <td id=\"T_4451d_row17_col0\" class=\"data row17 col0\" >MasVnrType</td>\n",
       "      <td id=\"T_4451d_row17_col1\" class=\"data row17 col1\" >0.550000</td>\n",
       "      <td id=\"T_4451d_row17_col2\" class=\"data row17 col2\" >object</td>\n",
       "    </tr>\n",
       "    <tr>\n",
       "      <th id=\"T_4451d_level0_row18\" class=\"row_heading level0 row18\" >9</th>\n",
       "      <td id=\"T_4451d_row18_col0\" class=\"data row18 col0\" >Electrical</td>\n",
       "      <td id=\"T_4451d_row18_col1\" class=\"data row18 col1\" >0.070000</td>\n",
       "      <td id=\"T_4451d_row18_col2\" class=\"data row18 col2\" >object</td>\n",
       "    </tr>\n",
       "  </tbody>\n",
       "</table>\n"
      ],
      "text/plain": [
       "<pandas.io.formats.style.Styler at 0x1c58db68b20>"
      ]
     },
     "execution_count": 12,
     "metadata": {},
     "output_type": "execute_result"
    }
   ],
   "source": [
    "# nan table\n",
    "missing_values = [nan for nan in train.columns if train[nan].isnull().mean() > 0]\n",
    "\n",
    "# Transform the array into a dataframe.\n",
    "non_values = train[missing_values].isnull().mean()\n",
    "non_values = pd.DataFrame(non_values.reset_index())\n",
    "\n",
    "# Add column names to the dataframe.\n",
    "non_values.columns = ['Column', 'Null %']\n",
    "\n",
    "# Showing dtype\n",
    "data_type = [train[i].dtype for i in non_values['Column']]\n",
    "non_values['Data type'] = data_type\n",
    "\n",
    "# Transform into a percentage\n",
    "non_values['Null %'] = (non_values['Null %'] * 100).round(decimals = 2)\n",
    "\n",
    "# Order the dataframe according to proportion of na per variable.\n",
    "color = sns.light_palette(\"pink\", as_cmap=True)\n",
    "non_values.sort_values('Null %', ascending=False, inplace=True)\n",
    "non_values.style.background_gradient(cmap=color)"
   ]
  },
  {
   "cell_type": "raw",
   "id": "6e413f97",
   "metadata": {},
   "source": [
    "PoolQC, MiscFeature, Alley and Fence will be dropped.\n",
    "Since they have larger % of missing values which would not contribute to the model building."
   ]
  },
  {
   "cell_type": "code",
   "execution_count": 13,
   "id": "998321c5",
   "metadata": {},
   "outputs": [
    {
     "data": {
      "text/html": [
       "<style type=\"text/css\">\n",
       "#T_7aa4e_row0_col1 {\n",
       "  background-color: #ffc0cb;\n",
       "  color: #000000;\n",
       "}\n",
       "#T_7aa4e_row1_col1 {\n",
       "  background-color: #f7dee2;\n",
       "  color: #000000;\n",
       "}\n",
       "#T_7aa4e_row2_col1, #T_7aa4e_row3_col1, #T_7aa4e_row4_col1, #T_7aa4e_row5_col1, #T_7aa4e_row6_col1 {\n",
       "  background-color: #f4eaec;\n",
       "  color: #000000;\n",
       "}\n",
       "#T_7aa4e_row7_col1, #T_7aa4e_row8_col1, #T_7aa4e_row9_col1, #T_7aa4e_row10_col1, #T_7aa4e_row11_col1 {\n",
       "  background-color: #f3eeee;\n",
       "  color: #000000;\n",
       "}\n",
       "#T_7aa4e_row12_col1, #T_7aa4e_row13_col1, #T_7aa4e_row14_col1 {\n",
       "  background-color: #f3f0f0;\n",
       "  color: #000000;\n",
       "}\n",
       "</style>\n",
       "<table id=\"T_7aa4e\">\n",
       "  <thead>\n",
       "    <tr>\n",
       "      <th class=\"blank level0\" >&nbsp;</th>\n",
       "      <th id=\"T_7aa4e_level0_col0\" class=\"col_heading level0 col0\" >Column</th>\n",
       "      <th id=\"T_7aa4e_level0_col1\" class=\"col_heading level0 col1\" >Null %</th>\n",
       "      <th id=\"T_7aa4e_level0_col2\" class=\"col_heading level0 col2\" >Data type</th>\n",
       "    </tr>\n",
       "  </thead>\n",
       "  <tbody>\n",
       "    <tr>\n",
       "      <th id=\"T_7aa4e_level0_row0\" class=\"row_heading level0 row0\" >9</th>\n",
       "      <td id=\"T_7aa4e_row0_col0\" class=\"data row0 col0\" >FireplaceQu</td>\n",
       "      <td id=\"T_7aa4e_row0_col1\" class=\"data row0 col1\" >47.260000</td>\n",
       "      <td id=\"T_7aa4e_row0_col2\" class=\"data row0 col2\" >object</td>\n",
       "    </tr>\n",
       "    <tr>\n",
       "      <th id=\"T_7aa4e_level0_row1\" class=\"row_heading level0 row1\" >0</th>\n",
       "      <td id=\"T_7aa4e_row1_col0\" class=\"data row1 col0\" >LotFrontage</td>\n",
       "      <td id=\"T_7aa4e_row1_col1\" class=\"data row1 col1\" >17.740000</td>\n",
       "      <td id=\"T_7aa4e_row1_col2\" class=\"data row1 col2\" >float64</td>\n",
       "    </tr>\n",
       "    <tr>\n",
       "      <th id=\"T_7aa4e_level0_row2\" class=\"row_heading level0 row2\" >10</th>\n",
       "      <td id=\"T_7aa4e_row2_col0\" class=\"data row2 col0\" >GarageType</td>\n",
       "      <td id=\"T_7aa4e_row2_col1\" class=\"data row2 col1\" >5.550000</td>\n",
       "      <td id=\"T_7aa4e_row2_col2\" class=\"data row2 col2\" >object</td>\n",
       "    </tr>\n",
       "    <tr>\n",
       "      <th id=\"T_7aa4e_level0_row3\" class=\"row_heading level0 row3\" >11</th>\n",
       "      <td id=\"T_7aa4e_row3_col0\" class=\"data row3 col0\" >GarageYrBlt</td>\n",
       "      <td id=\"T_7aa4e_row3_col1\" class=\"data row3 col1\" >5.550000</td>\n",
       "      <td id=\"T_7aa4e_row3_col2\" class=\"data row3 col2\" >float64</td>\n",
       "    </tr>\n",
       "    <tr>\n",
       "      <th id=\"T_7aa4e_level0_row4\" class=\"row_heading level0 row4\" >12</th>\n",
       "      <td id=\"T_7aa4e_row4_col0\" class=\"data row4 col0\" >GarageFinish</td>\n",
       "      <td id=\"T_7aa4e_row4_col1\" class=\"data row4 col1\" >5.550000</td>\n",
       "      <td id=\"T_7aa4e_row4_col2\" class=\"data row4 col2\" >object</td>\n",
       "    </tr>\n",
       "    <tr>\n",
       "      <th id=\"T_7aa4e_level0_row5\" class=\"row_heading level0 row5\" >13</th>\n",
       "      <td id=\"T_7aa4e_row5_col0\" class=\"data row5 col0\" >GarageQual</td>\n",
       "      <td id=\"T_7aa4e_row5_col1\" class=\"data row5 col1\" >5.550000</td>\n",
       "      <td id=\"T_7aa4e_row5_col2\" class=\"data row5 col2\" >object</td>\n",
       "    </tr>\n",
       "    <tr>\n",
       "      <th id=\"T_7aa4e_level0_row6\" class=\"row_heading level0 row6\" >14</th>\n",
       "      <td id=\"T_7aa4e_row6_col0\" class=\"data row6 col0\" >GarageCond</td>\n",
       "      <td id=\"T_7aa4e_row6_col1\" class=\"data row6 col1\" >5.550000</td>\n",
       "      <td id=\"T_7aa4e_row6_col2\" class=\"data row6 col2\" >object</td>\n",
       "    </tr>\n",
       "    <tr>\n",
       "      <th id=\"T_7aa4e_level0_row7\" class=\"row_heading level0 row7\" >5</th>\n",
       "      <td id=\"T_7aa4e_row7_col0\" class=\"data row7 col0\" >BsmtExposure</td>\n",
       "      <td id=\"T_7aa4e_row7_col1\" class=\"data row7 col1\" >2.600000</td>\n",
       "      <td id=\"T_7aa4e_row7_col2\" class=\"data row7 col2\" >object</td>\n",
       "    </tr>\n",
       "    <tr>\n",
       "      <th id=\"T_7aa4e_level0_row8\" class=\"row_heading level0 row8\" >7</th>\n",
       "      <td id=\"T_7aa4e_row8_col0\" class=\"data row8 col0\" >BsmtFinType2</td>\n",
       "      <td id=\"T_7aa4e_row8_col1\" class=\"data row8 col1\" >2.600000</td>\n",
       "      <td id=\"T_7aa4e_row8_col2\" class=\"data row8 col2\" >object</td>\n",
       "    </tr>\n",
       "    <tr>\n",
       "      <th id=\"T_7aa4e_level0_row9\" class=\"row_heading level0 row9\" >3</th>\n",
       "      <td id=\"T_7aa4e_row9_col0\" class=\"data row9 col0\" >BsmtQual</td>\n",
       "      <td id=\"T_7aa4e_row9_col1\" class=\"data row9 col1\" >2.530000</td>\n",
       "      <td id=\"T_7aa4e_row9_col2\" class=\"data row9 col2\" >object</td>\n",
       "    </tr>\n",
       "    <tr>\n",
       "      <th id=\"T_7aa4e_level0_row10\" class=\"row_heading level0 row10\" >4</th>\n",
       "      <td id=\"T_7aa4e_row10_col0\" class=\"data row10 col0\" >BsmtCond</td>\n",
       "      <td id=\"T_7aa4e_row10_col1\" class=\"data row10 col1\" >2.530000</td>\n",
       "      <td id=\"T_7aa4e_row10_col2\" class=\"data row10 col2\" >object</td>\n",
       "    </tr>\n",
       "    <tr>\n",
       "      <th id=\"T_7aa4e_level0_row11\" class=\"row_heading level0 row11\" >6</th>\n",
       "      <td id=\"T_7aa4e_row11_col0\" class=\"data row11 col0\" >BsmtFinType1</td>\n",
       "      <td id=\"T_7aa4e_row11_col1\" class=\"data row11 col1\" >2.530000</td>\n",
       "      <td id=\"T_7aa4e_row11_col2\" class=\"data row11 col2\" >object</td>\n",
       "    </tr>\n",
       "    <tr>\n",
       "      <th id=\"T_7aa4e_level0_row12\" class=\"row_heading level0 row12\" >1</th>\n",
       "      <td id=\"T_7aa4e_row12_col0\" class=\"data row12 col0\" >MasVnrType</td>\n",
       "      <td id=\"T_7aa4e_row12_col1\" class=\"data row12 col1\" >0.550000</td>\n",
       "      <td id=\"T_7aa4e_row12_col2\" class=\"data row12 col2\" >object</td>\n",
       "    </tr>\n",
       "    <tr>\n",
       "      <th id=\"T_7aa4e_level0_row13\" class=\"row_heading level0 row13\" >2</th>\n",
       "      <td id=\"T_7aa4e_row13_col0\" class=\"data row13 col0\" >MasVnrArea</td>\n",
       "      <td id=\"T_7aa4e_row13_col1\" class=\"data row13 col1\" >0.550000</td>\n",
       "      <td id=\"T_7aa4e_row13_col2\" class=\"data row13 col2\" >float64</td>\n",
       "    </tr>\n",
       "    <tr>\n",
       "      <th id=\"T_7aa4e_level0_row14\" class=\"row_heading level0 row14\" >8</th>\n",
       "      <td id=\"T_7aa4e_row14_col0\" class=\"data row14 col0\" >Electrical</td>\n",
       "      <td id=\"T_7aa4e_row14_col1\" class=\"data row14 col1\" >0.070000</td>\n",
       "      <td id=\"T_7aa4e_row14_col2\" class=\"data row14 col2\" >object</td>\n",
       "    </tr>\n",
       "  </tbody>\n",
       "</table>\n"
      ],
      "text/plain": [
       "<pandas.io.formats.style.Styler at 0x1c5930f5f10>"
      ]
     },
     "execution_count": 13,
     "metadata": {},
     "output_type": "execute_result"
    }
   ],
   "source": [
    "# dropping anything with greater than 50% missing from the dataset\n",
    "unwanted_col = []\n",
    "\n",
    "for i in non_values['Null %']:\n",
    "    if i > 50:\n",
    "        index = non_values.loc[non_values['Null %'] == i].index\n",
    "        col_name = non_values['Column'][index]\n",
    "        train.drop(columns=col_name, inplace=True)\n",
    "        test.drop(columns=col_name, inplace=True)\n",
    "        \n",
    "# revisiting the nan table\n",
    "missing_values = [nan for nan in train.columns if train[nan].isnull().mean() > 0]\n",
    "\n",
    "# Transform the array into a dataframe.\n",
    "non_values = train[missing_values].isnull().mean()\n",
    "non_values = pd.DataFrame(non_values.reset_index())\n",
    "\n",
    "# Add column names to the dataframe.\n",
    "non_values.columns = ['Column', 'Null %']\n",
    "\n",
    "# Showing dtype\n",
    "data_type = [train[i].dtype for i in non_values['Column']]\n",
    "non_values['Data type'] = data_type\n",
    "\n",
    "# Transform into a percentage\n",
    "non_values['Null %'] = (non_values['Null %'] * 100).round(decimals = 2)\n",
    "\n",
    "# Order the dataframe according to proportion of na per variable.\n",
    "color = sns.light_palette(\"pink\", as_cmap=True)\n",
    "non_values.sort_values('Null %', ascending=False, inplace=True)\n",
    "non_values.style.background_gradient(cmap=color)"
   ]
  },
  {
   "cell_type": "code",
   "execution_count": 22,
   "id": "90bcbb48",
   "metadata": {},
   "outputs": [],
   "source": [
    "#Before imputing missing values, we try to find out which value should be used to replace them by defining a function\n",
    "\n",
    "''''def diagnostic_plots(train, variable):\n",
    "    # The function takes a dataframe (df) and\n",
    "    # the variable of interest as arguments.\n",
    "    \n",
    "    print(f'Visualisation for {variable}\\n')\n",
    "    \n",
    "    # Define figure size.\n",
    "    plt.figure(figsize=(20, 5),dpi=100)\n",
    "\n",
    "    # KDE\n",
    "    plt.subplot(1, 2, 1)\n",
    "    sns.despine()\n",
    "    sns.kdeplot(data=train, x=\"SalePrice\", hue=variable, palette=\"Set1\")\n",
    "    sns.kdeplot(train[train[variable].isnull()]['SalePrice'], color='black')\n",
    "    plt.title('KDE')\n",
    "    \n",
    "    # ascending\n",
    "    large_to_small = train.groupby(variable).size().sort_values().index[::-1]\n",
    "    \n",
    "    # Countplot\n",
    "    plt.subplot(1, 2, 2)\n",
    "    sns.despine()\n",
    "    sns.countplot(data=train, x=train[variable], order=large_to_small, palette=\"Set1\")\n",
    "    plt.title('Count Plot')\n",
    "    \n",
    "    plt.show()\n",
    "    print(f'Black for KDE is missing values\\n')\n",
    "    print(f\"Missing values make up : {train[variable].isnull().sum()/len(train[variable])*100:.3}% of this dataset\\n\")\n",
    "    print(f\"The mode is : {train[variable].mode()[0]}\\n\")\n",
    "    print('_ ' * 40)\n",
    "    print('_ ' * 40)\n",
    "    print(f\"\\n\")\n",
    "\n",
    "    \n",
    "# visually analysing the object columns\n",
    "for i in train.columns:\n",
    "    if train[i].dtype == object and train[i].isnull().sum() > 0:\n",
    "        diagnostic_plots(train, i)"
   ]
  },
  {
   "cell_type": "code",
   "execution_count": 14,
   "id": "3c0d0775",
   "metadata": {},
   "outputs": [],
   "source": [
    "# Imputing missing values of 'object' datatype.\n",
    "\n",
    "#  MasVnrType\n",
    "train['MasVnrType'] = train['MasVnrType'].fillna('BrkFace')\n",
    "test['MasVnrType'] = test['MasVnrType'].fillna('BrkFace')\n",
    "\n",
    "# GarageFinish\n",
    "train['GarageFinish'] = train['GarageFinish'].fillna('Detchd')\n",
    "test['GarageFinish'] = test['GarageFinish'].fillna('Detchd')\n",
    "\n",
    "# FireplaceQu\n",
    "train['FireplaceQu'] = train['FireplaceQu'].fillna('Unknown')\n",
    "test['FireplaceQu'] = test['FireplaceQu'].fillna('Unknown')\n",
    "\n",
    "# filling the rest with mode\n",
    "for i in train.columns:\n",
    "    if train[i].dtype == object:\n",
    "        # mode\n",
    "        mode = train[i].mode()\n",
    "        # filling with mode\n",
    "        train[i] = train[i].fillna(mode[0])\n",
    "        test[i] = test[i].fillna(mode[0])\n",
    "\n"
   ]
  },
  {
   "cell_type": "code",
   "execution_count": 15,
   "id": "4b4878f8",
   "metadata": {},
   "outputs": [
    {
     "data": {
      "text/html": [
       "<style type=\"text/css\">\n",
       "#T_2554b_row0_col1 {\n",
       "  background-color: #ffc0cb;\n",
       "  color: #000000;\n",
       "}\n",
       "#T_2554b_row1_col1 {\n",
       "  background-color: #f6e2e6;\n",
       "  color: #000000;\n",
       "}\n",
       "#T_2554b_row2_col1 {\n",
       "  background-color: #f3f0f0;\n",
       "  color: #000000;\n",
       "}\n",
       "</style>\n",
       "<table id=\"T_2554b\">\n",
       "  <thead>\n",
       "    <tr>\n",
       "      <th class=\"blank level0\" >&nbsp;</th>\n",
       "      <th id=\"T_2554b_level0_col0\" class=\"col_heading level0 col0\" >Column</th>\n",
       "      <th id=\"T_2554b_level0_col1\" class=\"col_heading level0 col1\" >Null %</th>\n",
       "      <th id=\"T_2554b_level0_col2\" class=\"col_heading level0 col2\" >Data type</th>\n",
       "    </tr>\n",
       "  </thead>\n",
       "  <tbody>\n",
       "    <tr>\n",
       "      <th id=\"T_2554b_level0_row0\" class=\"row_heading level0 row0\" >0</th>\n",
       "      <td id=\"T_2554b_row0_col0\" class=\"data row0 col0\" >LotFrontage</td>\n",
       "      <td id=\"T_2554b_row0_col1\" class=\"data row0 col1\" >17.740000</td>\n",
       "      <td id=\"T_2554b_row0_col2\" class=\"data row0 col2\" >float64</td>\n",
       "    </tr>\n",
       "    <tr>\n",
       "      <th id=\"T_2554b_level0_row1\" class=\"row_heading level0 row1\" >2</th>\n",
       "      <td id=\"T_2554b_row1_col0\" class=\"data row1 col0\" >GarageYrBlt</td>\n",
       "      <td id=\"T_2554b_row1_col1\" class=\"data row1 col1\" >5.550000</td>\n",
       "      <td id=\"T_2554b_row1_col2\" class=\"data row1 col2\" >float64</td>\n",
       "    </tr>\n",
       "    <tr>\n",
       "      <th id=\"T_2554b_level0_row2\" class=\"row_heading level0 row2\" >1</th>\n",
       "      <td id=\"T_2554b_row2_col0\" class=\"data row2 col0\" >MasVnrArea</td>\n",
       "      <td id=\"T_2554b_row2_col1\" class=\"data row2 col1\" >0.550000</td>\n",
       "      <td id=\"T_2554b_row2_col2\" class=\"data row2 col2\" >float64</td>\n",
       "    </tr>\n",
       "  </tbody>\n",
       "</table>\n"
      ],
      "text/plain": [
       "<pandas.io.formats.style.Styler at 0x1c59050a220>"
      ]
     },
     "execution_count": 15,
     "metadata": {},
     "output_type": "execute_result"
    }
   ],
   "source": [
    "# revisiting the nan table\n",
    "missing_values = [nan for nan in train.columns if train[nan].isnull().mean() > 0]\n",
    "\n",
    "# Transform the array into a dataframe.\n",
    "non_values = train[missing_values].isnull().mean()\n",
    "non_values = pd.DataFrame(non_values.reset_index())\n",
    "\n",
    "# Add column names to the dataframe.\n",
    "non_values.columns = ['Column', 'Null %']\n",
    "\n",
    "# Showing dtype\n",
    "data_type = [train[i].dtype for i in non_values['Column']]\n",
    "non_values['Data type'] = data_type\n",
    "\n",
    "# Transform into a percentage\n",
    "non_values['Null %'] = (non_values['Null %'] * 100).round(decimals = 2)\n",
    "\n",
    "# Order the dataframe according to proportion of na per variable.\n",
    "color = sns.light_palette(\"pink\", as_cmap=True)\n",
    "non_values.sort_values('Null %', ascending=False, inplace=True)\n",
    "non_values.style.background_gradient(cmap=color)"
   ]
  },
  {
   "cell_type": "code",
   "execution_count": 16,
   "id": "c4b22530",
   "metadata": {},
   "outputs": [],
   "source": [
    "# Now we deal with the remaining null values in our dataset, these values will be imputed with the median.\n",
    "# Since we have outliers it is good to use median to replace missing values\n",
    "\n",
    "# we will use the median to fill these null values\n",
    "new_missing_values = []\n",
    "\n",
    "for i in missing_values:\n",
    "    if train[i].dtype == float:\n",
    "        new_missing_values.append(i)\n",
    "        \n",
    "        # using median of train to fill na values (to avoid overfitting)\n",
    "        median = train[i].median()\n",
    "        \n",
    "        # for illustrative purposes\n",
    "        mean = train[i].mean()\n",
    "        \n",
    "        # filling na values with median\n",
    "        train[f\"{i}_median\"] = train[i].fillna(median)\n",
    "        test[f\"{i}_median\"] = test[i].fillna(median)\n",
    "        \n",
    "        # filling na values with mean\n",
    "        train[f\"{i}_mean\"] = train[i].fillna(mean)\n",
    "        test[f\"{i}_mean\"] = test[i].fillna(mean)\n",
    "    else:\n",
    "        continue"
   ]
  },
  {
   "cell_type": "code",
   "execution_count": 17,
   "id": "9543b979",
   "metadata": {},
   "outputs": [
    {
     "name": "stdout",
     "output_type": "stream",
     "text": [
      "\n",
      "The top half is the Median and the bottom is the Mean.\n"
     ]
    },
    {
     "data": {
      "image/png": "[encoded data removed]",
      "text/plain": [
       "<Figure size 2000x1000 with 6 Axes>"
      ]
     },
     "metadata": {
      "needs_background": "light"
     },
     "output_type": "display_data"
    }
   ],
   "source": [
    "# MEAN VS MEDIAN REPLACEMENT\n",
    "\n",
    "fig, ax = plt.subplots(2, 3,figsize=(10, 5),dpi=200)\n",
    "\n",
    "print(f\"\\nThe top half is the Median and the bottom is the Mean.\")\n",
    "\n",
    "\n",
    "sns.kdeplot(train['LotFrontage'], x = 'SalePrice',color=\"blue\", label='LotFrontage', ax=ax[0,0])\n",
    "sns.kdeplot(train['LotFrontage_median'], x = 'SalePrice', color='red',label='LotFrontage_median', ax=ax[0,0], alpha=0.5)\n",
    "\n",
    "\n",
    "sns.kdeplot(train['GarageYrBlt'], x = 'SalePrice', color=\"blue\", label='GarageYrBlt', ax=ax[0,1])\n",
    "sns.kdeplot(train['GarageYrBlt_median'], x = 'SalePrice', color='red',label='GarageYrBlt_median', ax=ax[0,1], alpha=0.5)\n",
    "\n",
    "\n",
    "sns.kdeplot(train['MasVnrArea'], x = 'SalePrice', color=\"blue\", label='MasVnrArea', ax=ax[0,2])\n",
    "sns.kdeplot(train['MasVnrArea_median'], x = 'SalePrice', color='red',label='MasVnrArea_median', ax=ax[0,2], alpha=0.5)\n",
    "\n",
    "\n",
    "sns.kdeplot(train['LotFrontage'], x = 'SalePrice',color=\"purple\", label='LotFrontage', ax=ax[1,0])\n",
    "sns.kdeplot(train['LotFrontage_mean'], x = 'SalePrice', color='orange',label='LotFrontage_mean', ax=ax[1,0], alpha=0.5)\n",
    "\n",
    "\n",
    "sns.kdeplot(train['GarageYrBlt'], x = 'SalePrice', color=\"purple\", label='GarageYrBlt', ax=ax[1,1])\n",
    "sns.kdeplot(train['GarageYrBlt_mean'], x = 'SalePrice', color='orange',label='GarageYrBlt_mean', ax=ax[1,1], alpha=0.5)\n",
    "\n",
    "\n",
    "sns.kdeplot(train['MasVnrArea'], x = 'SalePrice', color=\"purple\", label='MasVnrArea', ax=ax[1,2])\n",
    "sns.kdeplot(train['MasVnrArea_mean'], x = 'SalePrice', color='orange',label='MasVnrArea_mean',ax=ax[1,2], alpha=0.5)\n",
    "\n",
    "plt.tight_layout()\n",
    "plt.show()\n"
   ]
  },
  {
   "cell_type": "raw",
   "id": "c31057d3",
   "metadata": {},
   "source": [
    "They both have the same distribution, however, I will fill the nan values with the median."
   ]
  },
  {
   "cell_type": "code",
   "execution_count": 18,
   "id": "a51f70cd",
   "metadata": {},
   "outputs": [],
   "source": [
    "# filling na with median TRAIN\n",
    "\n",
    "\n",
    "train['LotFrontage'] = train['LotFrontage_median']\n",
    "train['GarageYrBlt'] = train['GarageYrBlt_median']\n",
    "train['MasVnrArea'] = train['MasVnrArea_median']\n",
    "\n",
    "# dropping columns\n",
    "train.drop(columns=['LotFrontage_median','GarageYrBlt_median', 'MasVnrArea_median',\n",
    "                    'LotFrontage_mean', 'GarageYrBlt_mean', 'MasVnrArea_mean'], inplace= True)\n",
    "\n",
    "# dropping columns\n",
    "test.drop(columns=['LotFrontage_median','GarageYrBlt_median', 'MasVnrArea_median',\n",
    "                    'LotFrontage_mean', 'GarageYrBlt_mean', 'MasVnrArea_mean'], inplace= True)\n",
    "\n",
    "\n",
    "for i in test.columns:\n",
    "    if test[i].dtype == float:\n",
    "        test[i] = test[i].fillna(train[i].median())"
   ]
  },
  {
   "cell_type": "code",
   "execution_count": 19,
   "id": "6cf569cd",
   "metadata": {},
   "outputs": [
    {
     "data": {
      "text/plain": [
       "Id               0\n",
       "MSSubClass       0\n",
       "MSZoning         0\n",
       "LotFrontage      0\n",
       "LotArea          0\n",
       "                ..\n",
       "MoSold           0\n",
       "YrSold           0\n",
       "SaleType         0\n",
       "SaleCondition    0\n",
       "SalePrice        0\n",
       "Length: 77, dtype: int64"
      ]
     },
     "metadata": {},
     "output_type": "display_data"
    }
   ],
   "source": [
    "#Final check for missing values\n",
    "\n",
    "display(train.isnull().sum())"
   ]
  },
  {
   "cell_type": "code",
   "execution_count": 20,
   "id": "3ef52a2d",
   "metadata": {},
   "outputs": [
    {
     "name": "stdout",
     "output_type": "stream",
     "text": [
      "No Nulls found\n"
     ]
    }
   ],
   "source": [
    "def plot_nas(train: pd.DataFrame):\n",
    "    if train.isnull().sum().sum() != 0:\n",
    "        na_df = (train.isnull().sum() / len(train)) * 100      \n",
    "        na_df = na_df.drop(na_df[na_df == 0].index).sort_values(ascending=False)\n",
    "        missing_data = pd.DataFrame({'Missing Ratio %' :na_df})\n",
    "        missing_data.plot(kind = \"barh\")\n",
    "        plt.show()\n",
    "    else:\n",
    "        print('No Nulls found')\n",
    "plot_nas(train)"
   ]
  },
  {
   "cell_type": "code",
   "execution_count": null,
   "id": "1443a45b",
   "metadata": {},
   "outputs": [],
   "source": [
    "Finally we have no null values in our dataset."
   ]
  },
  {
   "cell_type": "markdown",
   "id": "5ffb8513",
   "metadata": {},
   "source": [
    "# OUTLIERS"
   ]
  },
  {
   "cell_type": "code",
   "execution_count": 21,
   "id": "638bf741",
   "metadata": {},
   "outputs": [],
   "source": [
    "def diagnostic_plots(df, variable):\n",
    "    \n",
    "    # Define figure size.\n",
    "    plt.figure(figsize=(16, 4))\n",
    "\n",
    "    # histogram\n",
    "    plt.subplot(1, 3, 1)\n",
    "    sns.histplot(df[variable], bins=30)\n",
    "    plt.title('Histogram')\n",
    "\n",
    "    \n",
    "\n",
    "    # boxplot\n",
    "    plt.subplot(1, 3, 3)\n",
    "    sns.boxplot(y=df[variable])\n",
    "    plt.title('Boxplot')\n",
    "    \n",
    "    plt.tight_layout()\n",
    "    plt.show()"
   ]
  },
  {
   "cell_type": "code",
   "execution_count": 22,
   "id": "09bb2c3c",
   "metadata": {},
   "outputs": [
    {
     "name": "stdout",
     "output_type": "stream",
     "text": [
      "LotFrontage Outlier visualisation\n",
      "Correlation w/ SalePrice : 0.33477085313976 \n"
     ]
    },
    {
     "data": {
      "image/png": "[encoded data removed]",
      "text/plain": [
       "<Figure size 1152x288 with 2 Axes>"
      ]
     },
     "metadata": {
      "needs_background": "light"
     },
     "output_type": "display_data"
    },
    {
     "name": "stdout",
     "output_type": "stream",
     "text": [
      "MasVnrArea Outlier visualisation\n",
      "Correlation w/ SalePrice : 0.47261449900457436 \n"
     ]
    },
    {
     "data": {
      "image/png": "[encoded data removed]",
      "text/plain": [
       "<Figure size 1152x288 with 2 Axes>"
      ]
     },
     "metadata": {
      "needs_background": "light"
     },
     "output_type": "display_data"
    },
    {
     "name": "stdout",
     "output_type": "stream",
     "text": [
      "GarageYrBlt Outlier visualisation\n",
      "Correlation w/ SalePrice : 0.4667536523633397 \n"
     ]
    },
    {
     "data": {
      "image/png": "[encoded data removed]",
      "text/plain": [
       "<Figure size 1152x288 with 2 Axes>"
      ]
     },
     "metadata": {
      "needs_background": "light"
     },
     "output_type": "display_data"
    }
   ],
   "source": [
    "for i in train.columns:\n",
    "    if train[i].dtype == int or train[i].dtype == float:\n",
    "        print(f\"{i} Outlier visualisation\")\n",
    "        print(f\"Correlation w/ SalePrice : {train['SalePrice'].corr(train[i])} \")\n",
    "        diagnostic_plots(train, i)"
   ]
  },
  {
   "cell_type": "code",
   "execution_count": 23,
   "id": "66f105b2",
   "metadata": {},
   "outputs": [
    {
     "name": "stdout",
     "output_type": "stream",
     "text": [
      "Requirement already satisfied: feature_engine in c:\\users\\user\\anaconda3\\lib\\site-packages (1.4.1)\n",
      "Requirement already satisfied: scipy>=1.4.1 in c:\\users\\user\\anaconda3\\lib\\site-packages (from feature_engine) (1.7.3)\n",
      "Requirement already satisfied: statsmodels>=0.11.1 in c:\\users\\user\\anaconda3\\lib\\site-packages (from feature_engine) (0.13.2)\n",
      "Requirement already satisfied: pandas>=1.0.3 in c:\\users\\user\\anaconda3\\lib\\site-packages (from feature_engine) (1.4.2)\n",
      "Requirement already satisfied: scikit-learn>=1.0.0 in c:\\users\\user\\anaconda3\\lib\\site-packages (from feature_engine) (1.1.1)\n",
      "Requirement already satisfied: numpy>=1.18.2 in c:\\users\\user\\anaconda3\\lib\\site-packages (from feature_engine) (1.21.5)\n",
      "Requirement already satisfied: python-dateutil>=2.8.1 in c:\\users\\user\\anaconda3\\lib\\site-packages (from pandas>=1.0.3->feature_engine) (2.8.2)\n",
      "Requirement already satisfied: pytz>=2020.1 in c:\\users\\user\\anaconda3\\lib\\site-packages (from pandas>=1.0.3->feature_engine) (2021.3)\n",
      "Requirement already satisfied: six>=1.5 in c:\\users\\user\\anaconda3\\lib\\site-packages (from python-dateutil>=2.8.1->pandas>=1.0.3->feature_engine) (1.16.0)\n",
      "Requirement already satisfied: threadpoolctl>=2.0.0 in c:\\users\\user\\anaconda3\\lib\\site-packages (from scikit-learn>=1.0.0->feature_engine) (2.2.0)\n",
      "Requirement already satisfied: joblib>=1.0.0 in c:\\users\\user\\anaconda3\\lib\\site-packages (from scikit-learn>=1.0.0->feature_engine) (1.1.0)\n",
      "Requirement already satisfied: patsy>=0.5.2 in c:\\users\\user\\anaconda3\\lib\\site-packages (from statsmodels>=0.11.1->feature_engine) (0.5.2)\n",
      "Requirement already satisfied: packaging>=21.3 in c:\\users\\user\\anaconda3\\lib\\site-packages (from statsmodels>=0.11.1->feature_engine) (21.3)\n",
      "Requirement already satisfied: pyparsing!=3.0.5,>=2.0.2 in c:\\users\\user\\anaconda3\\lib\\site-packages (from packaging>=21.3->statsmodels>=0.11.1->feature_engine) (3.0.4)\n"
     ]
    }
   ],
   "source": [
    "!pip install feature_engine"
   ]
  },
  {
   "cell_type": "code",
   "execution_count": 24,
   "id": "a98c41fd",
   "metadata": {},
   "outputs": [],
   "source": [
    "from feature_engine.outliers import Winsorizer\n",
    "\n",
    "# We Need To Get Upper & Lower Limits To Identify OutLiers Then Eliminate them.\n",
    "\n",
    "def find_boundaries(df, variable):\n",
    "\n",
    "    # the boundaries are the quantiles\n",
    "\n",
    "    lower_boundary = df[variable].quantile(0.05)\n",
    "    upper_boundary = df[variable].quantile(0.95)\n",
    "\n",
    "    return upper_boundary, lower_boundary"
   ]
  },
  {
   "cell_type": "code",
   "execution_count": 25,
   "id": "459b9690",
   "metadata": {},
   "outputs": [],
   "source": [
    "outliers = ['MSSubClass',\n",
    "'LotFrontage',\n",
    "'LotArea',\n",
    "'OverallCond',\n",
    "'MasVnrArea',\n",
    "'BsmtFinSF1',\n",
    "'BsmtFinSF2',\n",
    "'BsmtUnfSF',\n",
    "'TotalBsmtSF',\n",
    "'1stFlrSF',\n",
    "'LowQualFinSF',\n",
    "'GrLivArea',\n",
    "'BsmtHalfBath',\n",
    "'BedroomAbvGr',\n",
    "'KitchenAbvGr',\n",
    "'TotRmsAbvGrd',\n",
    "'WoodDeckSF',\n",
    "'OpenPorchSF',\n",
    "'EnclosedPorch',\n",
    "'3SsnPorch',\n",
    "'ScreenPorch',\n",
    "'PoolArea',\n",
    "'MiscVal',\n",
    "'MoSold']"
   ]
  },
  {
   "cell_type": "code",
   "execution_count": 26,
   "id": "4d9258a5",
   "metadata": {},
   "outputs": [],
   "source": [
    "for i in outliers:\n",
    "    # finding the outliers\n",
    "    upper_limit, lower_limit = find_boundaries(train, i)\n",
    "\n",
    "    # Now replacing the outliers by the maximum and minimum limit\n",
    "    train[i] = np.where(train[i] > upper_limit, upper_limit,\n",
    "                           np.where(train[i] < lower_limit, lower_limit, train[i]))\n",
    "    test[i] = np.where(test[i] > upper_limit, upper_limit,\n",
    "                       np.where(test[i] < lower_limit, lower_limit, test[i]))"
   ]
  },
  {
   "cell_type": "code",
   "execution_count": 27,
   "id": "b8be75ee",
   "metadata": {},
   "outputs": [],
   "source": [
    "dummy_col = [i for i in train.columns if train[i].dtype == object]\n",
    "\n",
    "# creating dummies\n",
    "pd.concat([train[dummy_col], pd.get_dummies(train[dummy_col])], axis=1)\n",
    "pd.concat([test[dummy_col], pd.get_dummies(train[dummy_col])], axis=1)\n",
    "\n",
    "# dropping \n",
    "train.drop(columns=dummy_col, inplace=True)\n",
    "test.drop(columns=dummy_col, inplace=True)"
   ]
  },
  {
   "cell_type": "markdown",
   "id": "b1d99ddc",
   "metadata": {},
   "source": [
    "# CORRELATION"
   ]
  },
  {
   "cell_type": "code",
   "execution_count": 28,
   "id": "5207e42f",
   "metadata": {},
   "outputs": [],
   "source": [
    "cor_mat= train[:].corr()\n",
    "cor_with_tar=cor_mat.sort_values(['SalePrice'],ascending=False)"
   ]
  },
  {
   "cell_type": "code",
   "execution_count": 29,
   "id": "5e7c88ce",
   "metadata": {},
   "outputs": [
    {
     "name": "stdout",
     "output_type": "stream",
     "text": [
      "The most relevant features (numeric) for the target are :\n"
     ]
    },
    {
     "data": {
      "text/plain": [
       "SalePrice       1.000000\n",
       "OverallQual     0.790982\n",
       "GrLivArea       0.696737\n",
       "GarageCars      0.640409\n",
       "TotalBsmtSF     0.626933\n",
       "                  ...   \n",
       "LowQualFinSF         NaN\n",
       "KitchenAbvGr         NaN\n",
       "3SsnPorch            NaN\n",
       "PoolArea             NaN\n",
       "MiscVal              NaN\n",
       "Name: SalePrice, Length: 38, dtype: float64"
      ]
     },
     "execution_count": 29,
     "metadata": {},
     "output_type": "execute_result"
    }
   ],
   "source": [
    "print(\"The most relevant features (numeric) for the target are :\")\n",
    "cor_with_tar.SalePrice"
   ]
  },
  {
   "cell_type": "code",
   "execution_count": null,
   "id": "3a56cb6c",
   "metadata": {},
   "outputs": [],
   "source": [
    "#INFERENCES--\n",
    "#Note that some of the features have quite high corelation with the target. These features are really significant.\n",
    "\n",
    "#Of these the features with corelation value >0.5 are really important. Some features like GrLivArea etc.. are even more important."
   ]
  },
  {
   "cell_type": "markdown",
   "id": "7bf0ce4e",
   "metadata": {},
   "source": [
    "# REGRESSION ANALYSIS"
   ]
  },
  {
   "cell_type": "code",
   "execution_count": 30,
   "id": "518f8049",
   "metadata": {},
   "outputs": [
    {
     "name": "stdout",
     "output_type": "stream",
     "text": [
      "Training data r-squared: 0.8283727249656704\n",
      "Test data r-squared: 0.8065587742635314\n"
     ]
    }
   ],
   "source": [
    "#WITHOUT LOG\n",
    "\n",
    "target = train['SalePrice']\n",
    "features = train.drop('SalePrice', axis=1)\n",
    "\n",
    "X_train, X_test, y_train, y_test = train_test_split(features, target, \n",
    "                                                    test_size=0.2, random_state=10)\n",
    "\n",
    "regr = LinearRegression()\n",
    "regr.fit(X_train, y_train)\n",
    "\n",
    "print('Training data r-squared:', regr.score(X_train, y_train))\n",
    "print('Test data r-squared:', regr.score(X_test, y_test))"
   ]
  },
  {
   "cell_type": "code",
   "execution_count": 31,
   "id": "ceb3bfc6",
   "metadata": {},
   "outputs": [
    {
     "name": "stdout",
     "output_type": "stream",
     "text": [
      "Training data r-squared: 0.8859919287691609\n",
      "Test data r-squared: 0.8870490608629695\n"
     ]
    }
   ],
   "source": [
    "#WITH LOG\n",
    "\n",
    "target = np.log(train['SalePrice']) # Use log prices\n",
    "features = train.drop('SalePrice', axis=1)\n",
    "\n",
    "X_train, X_test, y_train, y_test = train_test_split(features, target, \n",
    "                                                    test_size=0.2, random_state=10)\n",
    "\n",
    "regr = LinearRegression()\n",
    "regr.fit(X_train, y_train)\n",
    "\n",
    "print('Training data r-squared:', regr.score(X_train, y_train))\n",
    "print('Test data r-squared:', regr.score(X_test, y_test))"
   ]
  },
  {
   "cell_type": "code",
   "execution_count": 32,
   "id": "9cf78f77",
   "metadata": {},
   "outputs": [],
   "source": [
    "y_pred = regr.predict(X_test)"
   ]
  },
  {
   "cell_type": "code",
   "execution_count": 70,
   "id": "d49f9d10",
   "metadata": {},
   "outputs": [
    {
     "data": {
      "text/plain": [
       "<AxesSubplot:ylabel='SalePrice'>"
      ]
     },
     "execution_count": 70,
     "metadata": {},
     "output_type": "execute_result"
    },
    {
     "data": {
      "image/png": "[encoded data removed]",
      "text/plain": [
       "<Figure size 432x288 with 1 Axes>"
      ]
     },
     "metadata": {
      "needs_background": "light"
     },
     "output_type": "display_data"
    }
   ],
   "source": [
    "sns.regplot(y_pred,y_test)"
   ]
  },
  {
   "cell_type": "code",
   "execution_count": 33,
   "id": "89de5860",
   "metadata": {},
   "outputs": [
    {
     "name": "stdout",
     "output_type": "stream",
     "text": [
      "Mean absolute error = 0.1\n",
      "Mean squared error = 0.02\n",
      "Median absolute error = 0.08\n",
      "Explain variance score = 0.89\n",
      "R2 score = 0.89\n"
     ]
    }
   ],
   "source": [
    "# EVALUATION METRICS\n",
    "\n",
    "import sklearn.metrics as sm\n",
    "print(\"Mean absolute error =\", round(sm.mean_absolute_error(y_test, y_pred), 2)) \n",
    "print(\"Mean squared error =\", round(sm.mean_squared_error(y_test, y_pred), 2)) \n",
    "print(\"Median absolute error =\", round(sm.median_absolute_error(y_test, y_pred), 2)) \n",
    "print(\"Explain variance score =\", round(sm.explained_variance_score(y_test, y_pred), 2)) \n",
    "print(\"R2 score =\", round(sm.r2_score(y_test, y_pred), 2))"
   ]
  },
  {
   "cell_type": "code",
   "execution_count": 37,
   "id": "cee2b1a0",
   "metadata": {},
   "outputs": [
    {
     "data": {
      "text/plain": [
       "14085.525955471845"
      ]
     },
     "execution_count": 37,
     "metadata": {},
     "output_type": "execute_result"
    }
   ],
   "source": [
    "# POLYNOMIAL REGRESSION\n",
    "\n",
    "from sklearn.preprocessing import PolynomialFeatures\n",
    "poly_reg = PolynomialFeatures(degree = 2)\n",
    "X_train_poly, X_test_poly = poly_reg.fit_transform(X_train),poly_reg.fit_transform(X_test)\n",
    "\n",
    "model=linear_model.LinearRegression()\n",
    "model=model.fit(X_train_poly,y_train)\n",
    "\n",
    "\n",
    "coefficient=model.coef_\n",
    "model.intercept_"
   ]
  },
  {
   "cell_type": "code",
   "execution_count": 40,
   "id": "3b50ac24",
   "metadata": {},
   "outputs": [
    {
     "data": {
      "text/plain": [
       "0.7737798716165435"
      ]
     },
     "execution_count": 40,
     "metadata": {},
     "output_type": "execute_result"
    }
   ],
   "source": [
    "from sklearn.metrics import r2_score\n",
    "pred=model.predict(X_test_poly)\n",
    "r2_score(pred,y_test)"
   ]
  },
  {
   "cell_type": "code",
   "execution_count": null,
   "id": "545cd191",
   "metadata": {},
   "outputs": [],
   "source": [
    "#RIDGE AND LASSO REGULARISATION"
   ]
  },
  {
   "cell_type": "code",
   "execution_count": 41,
   "id": "feedf5a1",
   "metadata": {},
   "outputs": [],
   "source": [
    "from sklearn.linear_model import (LinearRegression, Ridge, Lasso)"
   ]
  },
  {
   "cell_type": "code",
   "execution_count": 48,
   "id": "fe68f8e4",
   "metadata": {
    "scrolled": true
   },
   "outputs": [
    {
     "name": "stdout",
     "output_type": "stream",
     "text": [
      "[ 4.36405222e-06 -3.16643043e-04  4.89475013e-04  8.53578157e-06\n",
      "  8.01351693e-02  5.79080641e-02  2.95471382e-03  1.15051883e-03\n",
      " -3.31256537e-05  8.14325240e-05  1.32274959e-05 -0.00000000e+00\n",
      "  1.70119954e-04  9.87069444e-05  1.51882098e-04  0.00000000e+00\n",
      "  1.44020981e-04  2.12036077e-02  1.67787434e-05  2.64449734e-03\n",
      " -2.66086481e-03 -1.56388961e-02  0.00000000e+00  1.50577814e-03\n",
      "  2.89124585e-02  1.35157345e-04  6.59979471e-02 -3.91311959e-05\n",
      "  1.39129627e-04  7.98609375e-05  1.20448177e-04  0.00000000e+00\n",
      "  3.70971684e-04  0.00000000e+00  0.00000000e+00 -3.95590755e-04\n",
      " -7.34611202e-03]\n"
     ]
    }
   ],
   "source": [
    "# create a lasso regressor\n",
    "lasso = Lasso(alpha=0.00001, normalize=True)\n",
    "\n",
    "# Fit the regressor to the data\n",
    "lasso.fit(X_train,y_train)\n",
    "\n",
    "# Compute and print the coefficients\n",
    "lasso_coef = lasso.coef_\n",
    "print(lasso_coef)"
   ]
  },
  {
   "cell_type": "raw",
   "id": "b9af1f7e",
   "metadata": {},
   "source": [
    "Now below, we will perform cross-validation on the data set and get our scores. This might be more appropriate if we had a test/train set and were predicting."
   ]
  },
  {
   "cell_type": "code",
   "execution_count": 50,
   "id": "af0b53d6",
   "metadata": {},
   "outputs": [
    {
     "name": "stdout",
     "output_type": "stream",
     "text": [
      "[0.87950769 0.8879178  0.87116249 0.85202553 0.88313658]\n",
      "Average 5-Fold CV Score: 0.8747500196685415\n"
     ]
    }
   ],
   "source": [
    "# Import the necessary module\n",
    "from sklearn.model_selection import cross_val_score\n",
    "\n",
    "# Create a linear regression object: reg\n",
    "reg = LinearRegression()\n",
    "\n",
    "# Compute 5-fold cross-validation scores: cv_scores\n",
    "cv_scores = cross_val_score(reg, X_train, y_train, cv=5)\n",
    "\n",
    "# Print the 5-fold cross-validation scores\n",
    "print(cv_scores)\n",
    "\n",
    "# find the mean of our cv scores here\n",
    "print(\"Average 5-Fold CV Score: {}\".format(np.mean(cv_scores)))"
   ]
  },
  {
   "cell_type": "code",
   "execution_count": 52,
   "id": "75ccf04d",
   "metadata": {},
   "outputs": [
    {
     "name": "stdout",
     "output_type": "stream",
     "text": [
      "[0.88068649 0.89543099 0.85654442 0.89368136 0.79123149]\n",
      "Average 5-Fold CV Score: 0.8635149494439457\n"
     ]
    }
   ],
   "source": [
    "reg = LinearRegression()\n",
    "\n",
    "# Compute 5-fold cross-validation scores: cv_scores\n",
    "cv_scores = cross_val_score(reg, X_test, y_test, cv=5)\n",
    "\n",
    "# Print the 5-fold cross-validation scores\n",
    "print(cv_scores)\n",
    "\n",
    "# find the mean of our cv scores here\n",
    "print(\"Average 5-Fold CV Score: {}\".format(np.mean(cv_scores)))"
   ]
  },
  {
   "cell_type": "raw",
   "id": "eca94a46",
   "metadata": {},
   "source": [
    "we'll run a ridge regression and see how score varies with different alphas. This will show how picking a different alpha score changes the R2."
   ]
  },
  {
   "cell_type": "code",
   "execution_count": 65,
   "id": "5df2e2cf",
   "metadata": {},
   "outputs": [
    {
     "data": {
      "text/plain": [
       "array([5.00000000e+09, 3.78231664e+09, 2.86118383e+09, 2.16438064e+09,\n",
       "       1.63727458e+09, 1.23853818e+09, 9.36908711e+08, 7.08737081e+08,\n",
       "       5.36133611e+08, 4.05565415e+08, 3.06795364e+08, 2.32079442e+08,\n",
       "       1.75559587e+08, 1.32804389e+08, 1.00461650e+08, 7.59955541e+07,\n",
       "       5.74878498e+07, 4.34874501e+07, 3.28966612e+07, 2.48851178e+07,\n",
       "       1.88246790e+07, 1.42401793e+07, 1.07721735e+07, 8.14875417e+06,\n",
       "       6.16423370e+06, 4.66301673e+06, 3.52740116e+06, 2.66834962e+06,\n",
       "       2.01850863e+06, 1.52692775e+06, 1.15506485e+06, 8.73764200e+05,\n",
       "       6.60970574e+05, 5.00000000e+05, 3.78231664e+05, 2.86118383e+05,\n",
       "       2.16438064e+05, 1.63727458e+05, 1.23853818e+05, 9.36908711e+04,\n",
       "       7.08737081e+04, 5.36133611e+04, 4.05565415e+04, 3.06795364e+04,\n",
       "       2.32079442e+04, 1.75559587e+04, 1.32804389e+04, 1.00461650e+04,\n",
       "       7.59955541e+03, 5.74878498e+03, 4.34874501e+03, 3.28966612e+03,\n",
       "       2.48851178e+03, 1.88246790e+03, 1.42401793e+03, 1.07721735e+03,\n",
       "       8.14875417e+02, 6.16423370e+02, 4.66301673e+02, 3.52740116e+02,\n",
       "       2.66834962e+02, 2.01850863e+02, 1.52692775e+02, 1.15506485e+02,\n",
       "       8.73764200e+01, 6.60970574e+01, 5.00000000e+01, 3.78231664e+01,\n",
       "       2.86118383e+01, 2.16438064e+01, 1.63727458e+01, 1.23853818e+01,\n",
       "       9.36908711e+00, 7.08737081e+00, 5.36133611e+00, 4.05565415e+00,\n",
       "       3.06795364e+00, 2.32079442e+00, 1.75559587e+00, 1.32804389e+00,\n",
       "       1.00461650e+00, 7.59955541e-01, 5.74878498e-01, 4.34874501e-01,\n",
       "       3.28966612e-01, 2.48851178e-01, 1.88246790e-01, 1.42401793e-01,\n",
       "       1.07721735e-01, 8.14875417e-02, 6.16423370e-02, 4.66301673e-02,\n",
       "       3.52740116e-02, 2.66834962e-02, 2.01850863e-02, 1.52692775e-02,\n",
       "       1.15506485e-02, 8.73764200e-03, 6.60970574e-03, 5.00000000e-03])"
      ]
     },
     "execution_count": 65,
     "metadata": {},
     "output_type": "execute_result"
    }
   ],
   "source": [
    "alphas = 10**np.linspace(10,-2,100)*0.5\n",
    "alphas"
   ]
  },
  {
   "cell_type": "code",
   "execution_count": 66,
   "id": "1677e07a",
   "metadata": {},
   "outputs": [
    {
     "data": {
      "text/plain": [
       "(100, 37)"
      ]
     },
     "execution_count": 66,
     "metadata": {},
     "output_type": "execute_result"
    }
   ],
   "source": [
    "ridge = Ridge(normalize = True)\n",
    "coefs = []\n",
    "\n",
    "for a in alphas:\n",
    "    ridge.set_params(alpha = a)\n",
    "    ridge.fit(X_train, y_train)\n",
    "    coefs.append(ridge.coef_)\n",
    "    \n",
    "np.shape(coefs)\n"
   ]
  },
  {
   "cell_type": "code",
   "execution_count": 68,
   "id": "236947a0",
   "metadata": {},
   "outputs": [
    {
     "name": "stdout",
     "output_type": "stream",
     "text": [
      "0.04823544049121505\n"
     ]
    }
   ],
   "source": [
    "ridge2 = Ridge(alpha = 4, normalize = True)\n",
    "ridge2.fit(X_train, y_train)             # Fit a ridge regression on the training data\n",
    "pred2 = ridge2.predict(X_test)           # Use this model to predict the test data\n",
    "\n",
    "print(mean_squared_error(y_test, pred2)) "
   ]
  },
  {
   "cell_type": "raw",
   "id": "4c34d592",
   "metadata": {},
   "source": [
    "The test MSE when alpha = 4 is 0.04823544049121505. Now let's see what happens if we use a huge value of alpha, say  1010 :"
   ]
  },
  {
   "cell_type": "code",
   "execution_count": 69,
   "id": "4dc16437",
   "metadata": {},
   "outputs": [
    {
     "name": "stdout",
     "output_type": "stream",
     "text": [
      "0.17663583121401077\n"
     ]
    }
   ],
   "source": [
    "ridge3 = Ridge(alpha = 10**10, normalize = True)\n",
    "ridge3.fit(X_train, y_train)             # Fit a ridge regression on the training data\n",
    "pred3 = ridge3.predict(X_test)           # Use this model to predict the test data\n",
    "\n",
    "print(mean_squared_error(y_test, pred3))          # Calculate the test MSE"
   ]
  },
  {
   "cell_type": "raw",
   "id": "b00a8a15",
   "metadata": {},
   "source": [
    "This big penalty shrinks the coefficients to a very large degree, essentially reducing to a model containing just the intercept. This over-shrinking makes the model more biased, resulting in a higher MSE.\n",
    "\n",
    "Okay, so fitting a ridge regression model with alpha = 4 leads to a much lower test MSE than fitting a model with just an intercept. We now check whether there is any benefit to performing ridge regression with alpha = 4 instead of just performing least squares regression. Recall that least squares is simply ridge regression with alpha = 0."
   ]
  },
  {
   "cell_type": "code",
   "execution_count": 71,
   "id": "5e05caee",
   "metadata": {},
   "outputs": [
    {
     "data": {
      "text/plain": [
       "0.026683496156031508"
      ]
     },
     "execution_count": 71,
     "metadata": {},
     "output_type": "execute_result"
    }
   ],
   "source": [
    "#Instead of arbitrarily choosing alpha  =4 , it would be better to use cross-validation to choose the tuning parameter alpha. We can do this using the cross-validated ridge regression function, RidgeCV().\n",
    "\n",
    "ridgecv = RidgeCV(alphas = alphas, scoring = 'neg_mean_squared_error', normalize = True)\n",
    "ridgecv.fit(X_train, y_train)\n",
    "ridgecv.alpha_"
   ]
  },
  {
   "cell_type": "code",
   "execution_count": 72,
   "id": "03f49bba",
   "metadata": {},
   "outputs": [
    {
     "data": {
      "text/plain": [
       "0.019571114854595978"
      ]
     },
     "execution_count": 72,
     "metadata": {},
     "output_type": "execute_result"
    }
   ],
   "source": [
    "ridge4 = Ridge(alpha = ridgecv.alpha_, normalize = True)\n",
    "ridge4.fit(X_train, y_train)\n",
    "mean_squared_error(y_test, ridge4.predict(X_test))"
   ]
  },
  {
   "cell_type": "code",
   "execution_count": 59,
   "id": "7e9c6a0f",
   "metadata": {},
   "outputs": [
    {
     "name": "stdout",
     "output_type": "stream",
     "text": [
      "ridge_cv_scores: [0.82037967 0.85963171 0.86720103 0.80454495 0.88751345 0.80280966\n",
      " 0.82203312 0.82441795 0.86498766 0.8332324 ]\n"
     ]
    }
   ],
   "source": [
    " # Perform 10-fold CV: ridge_cv_scores\n",
    "ridge_cv_scores = cross_val_score(ridge, X_train, y_train, cv=10)\n",
    "print(\"ridge_cv_scores:\",ridge_cv_scores)"
   ]
  },
  {
   "cell_type": "raw",
   "id": "549b6a1e",
   "metadata": {},
   "source": [
    "This represents a further improvement over the test MSE that we got using alpha  =4 . Finally, we refit our ridge regression model on the full data set, using the value of alpha chosen by cross-validation, and examine the coefficient estimates.\n",
    "\n",
    "We reduce the mean square error from 0.02 to 0.01.\n",
    "\n",
    "we can clearly observe that as the value of alpha increases, the model complexity reduces. Though higher values of alpha reduce overfitting, significantly high values can cause underfitting as well"
   ]
  },
  {
   "cell_type": "raw",
   "id": "e79ba300",
   "metadata": {},
   "source": [
    "COMPARISONS\n",
    "\n",
    "LINEAR REGRESSION -------\n",
    "\n",
    "                 Without log\n",
    "    Training data r-squared: 0.8283727249656704\n",
    "    Test data r-squared: 0.8065587742635314\n",
    "        \n",
    "                 with log\n",
    "    Training data r-squared: 0.8859919287691609\n",
    "    Test data r-squared: 0.8870490608629695       \n",
    "\n",
    "POLYNOMIAL REGRESSION----\n",
    "            Acuuracy: 0.7737798716165435\n",
    "            \n",
    "LASSO REGULARISATION----- Average 5-Fold CV Score: 0.8747500196685415\n",
    "RIDGE REGULARISATION----- MSE: 0.01"
   ]
  },
  {
   "cell_type": "code",
   "execution_count": null,
   "id": "98de7402",
   "metadata": {},
   "outputs": [],
   "source": []
  }
 ],
 "metadata": {
  "kernelspec": {
   "display_name": "Python 3 (ipykernel)",
   "language": "python",
   "name": "python3"
  },
  "language_info": {
   "codemirror_mode": {
    "name": "ipython",
    "version": 3
   },
   "file_extension": ".py",
   "mimetype": "text/x-python",
   "name": "python",
   "nbconvert_exporter": "python",
   "pygments_lexer": "ipython3",
   "version": "3.9.12"
  }
 },
 "nbformat": 4,
 "nbformat_minor": 5
}
